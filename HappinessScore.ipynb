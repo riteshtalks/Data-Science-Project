{
 "cells": [
  {
   "cell_type": "markdown",
   "id": "4ca8a301",
   "metadata": {},
   "source": [
    "# World Happiness Report"
   ]
  },
  {
   "cell_type": "markdown",
   "id": "3291d2e4",
   "metadata": {},
   "source": [
    "## Importing required libraries"
   ]
  },
  {
   "cell_type": "code",
   "execution_count": 13,
   "id": "b041b524",
   "metadata": {},
   "outputs": [],
   "source": [
    "import pandas as pd\n",
    "import numpy as np\n",
    "import matplotlib.pyplot as plt\n",
    "%matplotlib inline\n",
    "import seaborn as sns\n",
    "import matplotlib as mpl"
   ]
  },
  {
   "cell_type": "code",
   "execution_count": 4,
   "id": "d0695b24",
   "metadata": {},
   "outputs": [
    {
     "data": {
      "text/html": [
       "<div>\n",
       "<style scoped>\n",
       "    .dataframe tbody tr th:only-of-type {\n",
       "        vertical-align: middle;\n",
       "    }\n",
       "\n",
       "    .dataframe tbody tr th {\n",
       "        vertical-align: top;\n",
       "    }\n",
       "\n",
       "    .dataframe thead th {\n",
       "        text-align: right;\n",
       "    }\n",
       "</style>\n",
       "<table border=\"1\" class=\"dataframe\">\n",
       "  <thead>\n",
       "    <tr style=\"text-align: right;\">\n",
       "      <th></th>\n",
       "      <th>Country</th>\n",
       "      <th>Region</th>\n",
       "      <th>Happiness Rank</th>\n",
       "      <th>Happiness Score</th>\n",
       "      <th>Standard Error</th>\n",
       "      <th>Economy (GDP per Capita)</th>\n",
       "      <th>Family</th>\n",
       "      <th>Health (Life Expectancy)</th>\n",
       "      <th>Freedom</th>\n",
       "      <th>Trust (Government Corruption)</th>\n",
       "      <th>Generosity</th>\n",
       "      <th>Dystopia Residual</th>\n",
       "    </tr>\n",
       "  </thead>\n",
       "  <tbody>\n",
       "    <tr>\n",
       "      <th>0</th>\n",
       "      <td>Switzerland</td>\n",
       "      <td>Western Europe</td>\n",
       "      <td>1</td>\n",
       "      <td>7.587</td>\n",
       "      <td>0.03411</td>\n",
       "      <td>1.39651</td>\n",
       "      <td>1.34951</td>\n",
       "      <td>0.94143</td>\n",
       "      <td>0.66557</td>\n",
       "      <td>0.41978</td>\n",
       "      <td>0.29678</td>\n",
       "      <td>2.51738</td>\n",
       "    </tr>\n",
       "    <tr>\n",
       "      <th>1</th>\n",
       "      <td>Iceland</td>\n",
       "      <td>Western Europe</td>\n",
       "      <td>2</td>\n",
       "      <td>7.561</td>\n",
       "      <td>0.04884</td>\n",
       "      <td>1.30232</td>\n",
       "      <td>1.40223</td>\n",
       "      <td>0.94784</td>\n",
       "      <td>0.62877</td>\n",
       "      <td>0.14145</td>\n",
       "      <td>0.43630</td>\n",
       "      <td>2.70201</td>\n",
       "    </tr>\n",
       "    <tr>\n",
       "      <th>2</th>\n",
       "      <td>Denmark</td>\n",
       "      <td>Western Europe</td>\n",
       "      <td>3</td>\n",
       "      <td>7.527</td>\n",
       "      <td>0.03328</td>\n",
       "      <td>1.32548</td>\n",
       "      <td>1.36058</td>\n",
       "      <td>0.87464</td>\n",
       "      <td>0.64938</td>\n",
       "      <td>0.48357</td>\n",
       "      <td>0.34139</td>\n",
       "      <td>2.49204</td>\n",
       "    </tr>\n",
       "    <tr>\n",
       "      <th>3</th>\n",
       "      <td>Norway</td>\n",
       "      <td>Western Europe</td>\n",
       "      <td>4</td>\n",
       "      <td>7.522</td>\n",
       "      <td>0.03880</td>\n",
       "      <td>1.45900</td>\n",
       "      <td>1.33095</td>\n",
       "      <td>0.88521</td>\n",
       "      <td>0.66973</td>\n",
       "      <td>0.36503</td>\n",
       "      <td>0.34699</td>\n",
       "      <td>2.46531</td>\n",
       "    </tr>\n",
       "    <tr>\n",
       "      <th>4</th>\n",
       "      <td>Canada</td>\n",
       "      <td>North America</td>\n",
       "      <td>5</td>\n",
       "      <td>7.427</td>\n",
       "      <td>0.03553</td>\n",
       "      <td>1.32629</td>\n",
       "      <td>1.32261</td>\n",
       "      <td>0.90563</td>\n",
       "      <td>0.63297</td>\n",
       "      <td>0.32957</td>\n",
       "      <td>0.45811</td>\n",
       "      <td>2.45176</td>\n",
       "    </tr>\n",
       "  </tbody>\n",
       "</table>\n",
       "</div>"
      ],
      "text/plain": [
       "       Country          Region  Happiness Rank  Happiness Score  \\\n",
       "0  Switzerland  Western Europe               1            7.587   \n",
       "1      Iceland  Western Europe               2            7.561   \n",
       "2      Denmark  Western Europe               3            7.527   \n",
       "3       Norway  Western Europe               4            7.522   \n",
       "4       Canada   North America               5            7.427   \n",
       "\n",
       "   Standard Error  Economy (GDP per Capita)   Family  \\\n",
       "0         0.03411                   1.39651  1.34951   \n",
       "1         0.04884                   1.30232  1.40223   \n",
       "2         0.03328                   1.32548  1.36058   \n",
       "3         0.03880                   1.45900  1.33095   \n",
       "4         0.03553                   1.32629  1.32261   \n",
       "\n",
       "   Health (Life Expectancy)  Freedom  Trust (Government Corruption)  \\\n",
       "0                   0.94143  0.66557                        0.41978   \n",
       "1                   0.94784  0.62877                        0.14145   \n",
       "2                   0.87464  0.64938                        0.48357   \n",
       "3                   0.88521  0.66973                        0.36503   \n",
       "4                   0.90563  0.63297                        0.32957   \n",
       "\n",
       "   Generosity  Dystopia Residual  \n",
       "0     0.29678            2.51738  \n",
       "1     0.43630            2.70201  \n",
       "2     0.34139            2.49204  \n",
       "3     0.34699            2.46531  \n",
       "4     0.45811            2.45176  "
      ]
     },
     "execution_count": 4,
     "metadata": {},
     "output_type": "execute_result"
    }
   ],
   "source": [
    "happy_df = pd.read_csv('happiness_score_dataset.csv')\n",
    "happy_df.head(5)"
   ]
  },
  {
   "cell_type": "code",
   "execution_count": 5,
   "id": "3c486e26",
   "metadata": {},
   "outputs": [
    {
     "name": "stdout",
     "output_type": "stream",
     "text": [
      "<class 'pandas.core.frame.DataFrame'>\n",
      "RangeIndex: 158 entries, 0 to 157\n",
      "Data columns (total 12 columns):\n",
      " #   Column                         Non-Null Count  Dtype  \n",
      "---  ------                         --------------  -----  \n",
      " 0   Country                        158 non-null    object \n",
      " 1   Region                         158 non-null    object \n",
      " 2   Happiness Rank                 158 non-null    int64  \n",
      " 3   Happiness Score                158 non-null    float64\n",
      " 4   Standard Error                 158 non-null    float64\n",
      " 5   Economy (GDP per Capita)       158 non-null    float64\n",
      " 6   Family                         158 non-null    float64\n",
      " 7   Health (Life Expectancy)       158 non-null    float64\n",
      " 8   Freedom                        158 non-null    float64\n",
      " 9   Trust (Government Corruption)  158 non-null    float64\n",
      " 10  Generosity                     158 non-null    float64\n",
      " 11  Dystopia Residual              158 non-null    float64\n",
      "dtypes: float64(9), int64(1), object(2)\n",
      "memory usage: 14.9+ KB\n"
     ]
    }
   ],
   "source": [
    "happy_df.info()"
   ]
  },
  {
   "cell_type": "code",
   "execution_count": 37,
   "id": "4259cf38",
   "metadata": {},
   "outputs": [],
   "source": [
    "# Change the Overall rank data type to string\n",
    "happy_df['Happiness Rank'] = happy_df['Happiness Rank'].astype('str')"
   ]
  },
  {
   "cell_type": "code",
   "execution_count": 38,
   "id": "a553d90e",
   "metadata": {},
   "outputs": [
    {
     "data": {
      "text/html": [
       "<div>\n",
       "<style scoped>\n",
       "    .dataframe tbody tr th:only-of-type {\n",
       "        vertical-align: middle;\n",
       "    }\n",
       "\n",
       "    .dataframe tbody tr th {\n",
       "        vertical-align: top;\n",
       "    }\n",
       "\n",
       "    .dataframe thead th {\n",
       "        text-align: right;\n",
       "    }\n",
       "</style>\n",
       "<table border=\"1\" class=\"dataframe\">\n",
       "  <thead>\n",
       "    <tr style=\"text-align: right;\">\n",
       "      <th></th>\n",
       "      <th>Happiness Score</th>\n",
       "      <th>Standard Error</th>\n",
       "      <th>Economy (GDP per Capita)</th>\n",
       "      <th>Family</th>\n",
       "      <th>Health (Life Expectancy)</th>\n",
       "      <th>Freedom</th>\n",
       "      <th>Trust (Government Corruption)</th>\n",
       "      <th>Generosity</th>\n",
       "      <th>Dystopia Residual</th>\n",
       "    </tr>\n",
       "  </thead>\n",
       "  <tbody>\n",
       "    <tr>\n",
       "      <th>count</th>\n",
       "      <td>158.000000</td>\n",
       "      <td>158.000000</td>\n",
       "      <td>158.000000</td>\n",
       "      <td>158.000000</td>\n",
       "      <td>158.000000</td>\n",
       "      <td>158.000000</td>\n",
       "      <td>158.000000</td>\n",
       "      <td>158.000000</td>\n",
       "      <td>158.000000</td>\n",
       "    </tr>\n",
       "    <tr>\n",
       "      <th>mean</th>\n",
       "      <td>5.375734</td>\n",
       "      <td>0.047885</td>\n",
       "      <td>0.846137</td>\n",
       "      <td>0.991046</td>\n",
       "      <td>0.630259</td>\n",
       "      <td>0.428615</td>\n",
       "      <td>0.143422</td>\n",
       "      <td>0.237296</td>\n",
       "      <td>2.098977</td>\n",
       "    </tr>\n",
       "    <tr>\n",
       "      <th>std</th>\n",
       "      <td>1.145010</td>\n",
       "      <td>0.017146</td>\n",
       "      <td>0.403121</td>\n",
       "      <td>0.272369</td>\n",
       "      <td>0.247078</td>\n",
       "      <td>0.150693</td>\n",
       "      <td>0.120034</td>\n",
       "      <td>0.126685</td>\n",
       "      <td>0.553550</td>\n",
       "    </tr>\n",
       "    <tr>\n",
       "      <th>min</th>\n",
       "      <td>2.839000</td>\n",
       "      <td>0.018480</td>\n",
       "      <td>0.000000</td>\n",
       "      <td>0.000000</td>\n",
       "      <td>0.000000</td>\n",
       "      <td>0.000000</td>\n",
       "      <td>0.000000</td>\n",
       "      <td>0.000000</td>\n",
       "      <td>0.328580</td>\n",
       "    </tr>\n",
       "    <tr>\n",
       "      <th>25%</th>\n",
       "      <td>4.526000</td>\n",
       "      <td>0.037268</td>\n",
       "      <td>0.545808</td>\n",
       "      <td>0.856823</td>\n",
       "      <td>0.439185</td>\n",
       "      <td>0.328330</td>\n",
       "      <td>0.061675</td>\n",
       "      <td>0.150553</td>\n",
       "      <td>1.759410</td>\n",
       "    </tr>\n",
       "    <tr>\n",
       "      <th>50%</th>\n",
       "      <td>5.232500</td>\n",
       "      <td>0.043940</td>\n",
       "      <td>0.910245</td>\n",
       "      <td>1.029510</td>\n",
       "      <td>0.696705</td>\n",
       "      <td>0.435515</td>\n",
       "      <td>0.107220</td>\n",
       "      <td>0.216130</td>\n",
       "      <td>2.095415</td>\n",
       "    </tr>\n",
       "    <tr>\n",
       "      <th>75%</th>\n",
       "      <td>6.243750</td>\n",
       "      <td>0.052300</td>\n",
       "      <td>1.158448</td>\n",
       "      <td>1.214405</td>\n",
       "      <td>0.811013</td>\n",
       "      <td>0.549092</td>\n",
       "      <td>0.180255</td>\n",
       "      <td>0.309883</td>\n",
       "      <td>2.462415</td>\n",
       "    </tr>\n",
       "    <tr>\n",
       "      <th>max</th>\n",
       "      <td>7.587000</td>\n",
       "      <td>0.136930</td>\n",
       "      <td>1.690420</td>\n",
       "      <td>1.402230</td>\n",
       "      <td>1.025250</td>\n",
       "      <td>0.669730</td>\n",
       "      <td>0.551910</td>\n",
       "      <td>0.795880</td>\n",
       "      <td>3.602140</td>\n",
       "    </tr>\n",
       "  </tbody>\n",
       "</table>\n",
       "</div>"
      ],
      "text/plain": [
       "       Happiness Score  Standard Error  Economy (GDP per Capita)      Family  \\\n",
       "count       158.000000      158.000000                158.000000  158.000000   \n",
       "mean          5.375734        0.047885                  0.846137    0.991046   \n",
       "std           1.145010        0.017146                  0.403121    0.272369   \n",
       "min           2.839000        0.018480                  0.000000    0.000000   \n",
       "25%           4.526000        0.037268                  0.545808    0.856823   \n",
       "50%           5.232500        0.043940                  0.910245    1.029510   \n",
       "75%           6.243750        0.052300                  1.158448    1.214405   \n",
       "max           7.587000        0.136930                  1.690420    1.402230   \n",
       "\n",
       "       Health (Life Expectancy)     Freedom  Trust (Government Corruption)  \\\n",
       "count                158.000000  158.000000                     158.000000   \n",
       "mean                   0.630259    0.428615                       0.143422   \n",
       "std                    0.247078    0.150693                       0.120034   \n",
       "min                    0.000000    0.000000                       0.000000   \n",
       "25%                    0.439185    0.328330                       0.061675   \n",
       "50%                    0.696705    0.435515                       0.107220   \n",
       "75%                    0.811013    0.549092                       0.180255   \n",
       "max                    1.025250    0.669730                       0.551910   \n",
       "\n",
       "       Generosity  Dystopia Residual  \n",
       "count  158.000000         158.000000  \n",
       "mean     0.237296           2.098977  \n",
       "std      0.126685           0.553550  \n",
       "min      0.000000           0.328580  \n",
       "25%      0.150553           1.759410  \n",
       "50%      0.216130           2.095415  \n",
       "75%      0.309883           2.462415  \n",
       "max      0.795880           3.602140  "
      ]
     },
     "execution_count": 38,
     "metadata": {},
     "output_type": "execute_result"
    }
   ],
   "source": [
    "# Descriptive statistics from quantitative data in the dataframe\n",
    "happy_df.describe()"
   ]
  },
  {
   "cell_type": "code",
   "execution_count": 39,
   "id": "cecbd6d9",
   "metadata": {},
   "outputs": [
    {
     "data": {
      "text/plain": [
       "False"
      ]
     },
     "execution_count": 39,
     "metadata": {},
     "output_type": "execute_result"
    }
   ],
   "source": [
    "#Check if the world happiness data in 2015 has any missing or null values, using two codes\n",
    "\n",
    "# check if there are any missing data, if it returns False ---> then there's no missing data\n",
    "happy_df.isnull().any().any()"
   ]
  },
  {
   "cell_type": "code",
   "execution_count": 40,
   "id": "a32bf8a6",
   "metadata": {},
   "outputs": [
    {
     "data": {
      "text/plain": [
       "Country                          0\n",
       "Region                           0\n",
       "Happiness Rank                   0\n",
       "Happiness Score                  0\n",
       "Standard Error                   0\n",
       "Economy (GDP per Capita)         0\n",
       "Family                           0\n",
       "Health (Life Expectancy)         0\n",
       "Freedom                          0\n",
       "Trust (Government Corruption)    0\n",
       "Generosity                       0\n",
       "Dystopia Residual                0\n",
       "dtype: int64"
      ]
     },
     "execution_count": 40,
     "metadata": {},
     "output_type": "execute_result"
    }
   ],
   "source": [
    "# checking for any missing data\n",
    "happy_df.isnull().sum()"
   ]
  },
  {
   "cell_type": "markdown",
   "id": "bdbf491c",
   "metadata": {},
   "source": [
    "## relplot"
   ]
  },
  {
   "cell_type": "markdown",
   "id": "36d350d4",
   "metadata": {},
   "source": [
    "This graph shows the Happines Score increases the more Freedom increase, which means that if the Region has high levels of freedom the people will be happier.\n",
    "And the values for Happiness Score differs depending on what region we're talking about"
   ]
  },
  {
   "cell_type": "code",
   "execution_count": 41,
   "id": "502b41d2",
   "metadata": {},
   "outputs": [
    {
     "data": {
      "text/plain": [
       "<seaborn.axisgrid.FacetGrid at 0x23bd4eecd60>"
      ]
     },
     "execution_count": 41,
     "metadata": {},
     "output_type": "execute_result"
    },
    {
     "data": {
      "image/png": "[encoded data removed]",
      "text/plain": [
       "<Figure size 555.35x360 with 1 Axes>"
      ]
     },
     "metadata": {},
     "output_type": "display_data"
    }
   ],
   "source": [
    "sns.set_theme(style=\"dark\")\n",
    "sns.relplot(x=\"Freedom\", y=\"Happiness Score\",data=happy_df, hue = 'Region')"
   ]
  },
  {
   "cell_type": "markdown",
   "id": "eb948304",
   "metadata": {},
   "source": [
    "## catplot"
   ]
  },
  {
   "cell_type": "markdown",
   "id": "a0cc232c",
   "metadata": {},
   "source": [
    "This graph shows how the happiness score changes changes due to family support in different regions.\n",
    "I only chose the first 10 rows of the data and based on that, we can see that the situation is different in different regions and based on how involved the family is in the adult's life, whereas the more present and pleasnt the family support is the more the hapiness score increases."
   ]
  },
  {
   "cell_type": "code",
   "execution_count": 42,
   "id": "5ae284aa",
   "metadata": {},
   "outputs": [
    {
     "data": {
      "image/png": "[encoded data removed]",
      "text/plain": [
       "<Figure size 1035.97x864 with 1 Axes>"
      ]
     },
     "metadata": {},
     "output_type": "display_data"
    }
   ],
   "source": [
    "sns.set_theme(style=\"darkgrid\")\n",
    "family = sns.catplot(\n",
    "    data=happy_df.head(10), kind=\"bar\",\n",
    "    x=\"Family\", y=\"Happiness Score\", hue=\"Region\",\n",
    "    ci=\"sd\", palette=\"dark\", alpha=.6, height=12\n",
    ")"
   ]
  },
  {
   "cell_type": "markdown",
   "id": "4f236143",
   "metadata": {},
   "source": [
    "## catplot"
   ]
  },
  {
   "cell_type": "markdown",
   "id": "b9f6dfa3",
   "metadata": {},
   "source": [
    "This graph shows how the Happiness Rank changes changes based on health or life expectency.¶\n",
    "I only chose the first 5 rows of the data and based on that, we can see that the better the health situation is for people the more likely for them to have hight scores ranks of happiness regardless of where they are in the world"
   ]
  },
  {
   "cell_type": "code",
   "execution_count": 43,
   "id": "f2b7d2a5",
   "metadata": {},
   "outputs": [
    {
     "data": {
      "image/png": "[encoded data removed]",
      "text/plain": [
       "<Figure size 720x720 with 1 Axes>"
      ]
     },
     "metadata": {},
     "output_type": "display_data"
    }
   ],
   "source": [
    "sns.set_theme(style=\"darkgrid\")\n",
    "health = sns.catplot(\n",
    "    data=happy_df.head(5), kind=\"bar\",\n",
    "    x=\"Health (Life Expectancy)\", y=\"Happiness Rank\",\n",
    "    ci=\"sd\", palette=\"dark\", alpha=.6, height=10\n",
    ")"
   ]
  },
  {
   "cell_type": "markdown",
   "id": "6cd2693a",
   "metadata": {},
   "source": [
    "## Happiness Variable Box Plot"
   ]
  },
  {
   "cell_type": "code",
   "execution_count": 44,
   "id": "413dbf01",
   "metadata": {},
   "outputs": [],
   "source": [
    "cols = ['Economy (GDP per Capita)',\n",
    "       'Family', 'Health (Life Expectancy)',\n",
    "       'Freedom', 'Generosity',\n",
    "       'Trust (Government Corruption)','Dystopia Residual']\n",
    "\n",
    "# Unpivot or melt the dataframe\n",
    "df_melt = pd.melt(happy_df, id_vars=['Country','Region'], \n",
    "                  value_vars=cols, \n",
    "                  var_name='variable', \n",
    "                  value_name='point')"
   ]
  },
  {
   "cell_type": "code",
   "execution_count": 45,
   "id": "b0cea891",
   "metadata": {},
   "outputs": [
    {
     "data": {
      "image/png": "[encoded data removed]",
      "text/plain": [
       "<Figure size 720x432 with 1 Axes>"
      ]
     },
     "metadata": {},
     "output_type": "display_data"
    }
   ],
   "source": [
    "# Set the figure width and height\n",
    "plt.figure(figsize = (10,6))\n",
    "\n",
    "# Plot the heatmap of correlation between variables in the dataframe\n",
    "ax = sns.boxplot(x='point', y='variable', data=df_melt, linewidth=2, fliersize=6, palette='Set2')\n",
    "\n",
    "# Set the chart style\n",
    "sns.set_style(\"ticks\")\n",
    "sns.despine()\n",
    "\n",
    "# Set the title, the labels, and custom ticks\n",
    "plt.title('The Box Plot of Happiness Variables', fontsize = 18, pad=15)\n",
    "ax.tick_params(labelsize=14)\n",
    "ax.set_xlabel(\"Points\", fontsize=16, labelpad=5)\n",
    "ax.set_ylabel(\"\")\n",
    "ax.tick_params(labelsize=14)\n",
    "\n",
    "# Show the plot\n",
    "plt.show()"
   ]
  },
  {
   "cell_type": "markdown",
   "id": "f02e35df",
   "metadata": {},
   "source": [
    "The graph shows that even though some variables have outliers, those outliers are representing a condition of a country. But, the Trust (Government Corruption) variable has the most outliers among all variables. Those outliers represent the countries with high trust in the goverment/business or simply has lower corruption level. This means, that corruption is still a major problem in most of the world."
   ]
  },
  {
   "cell_type": "markdown",
   "id": "ba5ac69d",
   "metadata": {},
   "source": [
    "## How Score Variable Measured?"
   ]
  },
  {
   "cell_type": "code",
   "execution_count": 46,
   "id": "a5811303",
   "metadata": {},
   "outputs": [
    {
     "data": {
      "text/plain": [
       "Country                          True\n",
       "Region                           True\n",
       "Happiness Rank                   True\n",
       "Happiness Score                  True\n",
       "Standard Error                   True\n",
       "Economy (GDP per Capita)         True\n",
       "Family                           True\n",
       "Health (Life Expectancy)         True\n",
       "Freedom                          True\n",
       "Trust (Government Corruption)    True\n",
       "Generosity                       True\n",
       "Dystopia Residual                True\n",
       "Check                            True\n",
       "dtype: bool"
      ]
     },
     "execution_count": 46,
     "metadata": {},
     "output_type": "execute_result"
    }
   ],
   "source": [
    "happy_df[\"Check\"] = happy_df[['Economy (GDP per Capita)',\n",
    "       'Family', 'Health (Life Expectancy)',\n",
    "       'Freedom', 'Generosity',\n",
    "       'Trust (Government Corruption)','Dystopia Residual']].sum(axis = 1)\n",
    "\n",
    "happy_df[happy_df['Check'] != happy_df['Happiness Score']].any()"
   ]
  },
  {
   "cell_type": "code",
   "execution_count": 47,
   "id": "b1ed9035",
   "metadata": {},
   "outputs": [
    {
     "data": {
      "text/html": [
       "<div>\n",
       "<style scoped>\n",
       "    .dataframe tbody tr th:only-of-type {\n",
       "        vertical-align: middle;\n",
       "    }\n",
       "\n",
       "    .dataframe tbody tr th {\n",
       "        vertical-align: top;\n",
       "    }\n",
       "\n",
       "    .dataframe thead th {\n",
       "        text-align: right;\n",
       "    }\n",
       "</style>\n",
       "<table border=\"1\" class=\"dataframe\">\n",
       "  <thead>\n",
       "    <tr style=\"text-align: right;\">\n",
       "      <th></th>\n",
       "      <th>Check</th>\n",
       "      <th>Happiness Score</th>\n",
       "    </tr>\n",
       "  </thead>\n",
       "  <tbody>\n",
       "    <tr>\n",
       "      <th>65</th>\n",
       "      <td>5.69534</td>\n",
       "      <td>5.695</td>\n",
       "    </tr>\n",
       "    <tr>\n",
       "      <th>25</th>\n",
       "      <td>6.75018</td>\n",
       "      <td>6.750</td>\n",
       "    </tr>\n",
       "    <tr>\n",
       "      <th>2</th>\n",
       "      <td>7.52708</td>\n",
       "      <td>7.527</td>\n",
       "    </tr>\n",
       "    <tr>\n",
       "      <th>55</th>\n",
       "      <td>5.83259</td>\n",
       "      <td>5.833</td>\n",
       "    </tr>\n",
       "    <tr>\n",
       "      <th>6</th>\n",
       "      <td>7.37815</td>\n",
       "      <td>7.378</td>\n",
       "    </tr>\n",
       "  </tbody>\n",
       "</table>\n",
       "</div>"
      ],
      "text/plain": [
       "      Check  Happiness Score\n",
       "65  5.69534            5.695\n",
       "25  6.75018            6.750\n",
       "2   7.52708            7.527\n",
       "55  5.83259            5.833\n",
       "6   7.37815            7.378"
      ]
     },
     "execution_count": 47,
     "metadata": {},
     "output_type": "execute_result"
    }
   ],
   "source": [
    "happy_df[['Check', 'Happiness Score']].sample(5)"
   ]
  },
  {
   "cell_type": "code",
   "execution_count": 48,
   "id": "b911965f",
   "metadata": {},
   "outputs": [],
   "source": [
    "happy_df.drop(\"Check\", axis=1, inplace=True)"
   ]
  },
  {
   "cell_type": "markdown",
   "id": "8e18e1c8",
   "metadata": {},
   "source": [
    "## Happiness Score Variable Distribution"
   ]
  },
  {
   "cell_type": "markdown",
   "id": "9fb399f1",
   "metadata": {},
   "source": [
    "As the most crucial part to determine the level of happiness in a country, the Happiness score measurements should get more attention here. First, let's look at how the values are distributed."
   ]
  },
  {
   "cell_type": "code",
   "execution_count": 49,
   "id": "ed20e622",
   "metadata": {},
   "outputs": [
    {
     "data": {
      "image/png": "[encoded data removed]",
      "text/plain": [
       "<Figure size 576x432 with 1 Axes>"
      ]
     },
     "metadata": {},
     "output_type": "display_data"
    }
   ],
   "source": [
    "plt.figure(figsize = (8, 6)) # Set the figure width and height\n",
    "\n",
    "# Plot the distribution of the score measurement\n",
    "ax = sns.histplot(happy_df['Happiness Score'], kde=True)\n",
    "\n",
    "# Set the title, the labels, and custom ticks\n",
    "plt.title('The Distribution of Happiness Score Variable', fontsize = 16, pad=10)\n",
    "ax.set_xlabel(\"Happiness Score\", fontsize=14, labelpad=5)\n",
    "ax.set_ylabel(\"Count\", fontsize=14, labelpad=5)\n",
    "ax.tick_params(labelsize=12)\n",
    "\n",
    "# Show the plot\n",
    "plt.show()"
   ]
  },
  {
   "cell_type": "markdown",
   "id": "84b3468c",
   "metadata": {},
   "source": [
    "From the visual above, the score variable has quite bell-shaped graph and the values are mostly laid near the mean value, which is <strong>5.37</strong>"
   ]
  },
  {
   "cell_type": "code",
   "execution_count": 50,
   "id": "abbe3063",
   "metadata": {},
   "outputs": [
    {
     "name": "stdout",
     "output_type": "stream",
     "text": [
      "Happiness Score variable central tendency calculation\n",
      "Mean    : 5.38\n",
      "Median  : 5.23\n",
      "Mode    : 5.19\n"
     ]
    }
   ],
   "source": [
    "# Check the mean, median, mode of the Score variable\n",
    "score_mean = round(happy_df['Happiness Score'].mean(), 2)\n",
    "score_median = round(happy_df['Happiness Score'].median(), 2)\n",
    "score_mode = round(happy_df['Happiness Score'].mode()[0] , 2)\n",
    "\n",
    "# Print the result\n",
    "print('Happiness Score variable central tendency calculation')\n",
    "print('Mean    : {}\\nMedian  : {}\\nMode    : {}'. format(score_mean, score_median, score_mode))"
   ]
  },
  {
   "cell_type": "markdown",
   "id": "a189fa7a",
   "metadata": {},
   "source": [
    "The central tendency calculation from the Happiness Score variables also shows that the graph would have a bell-shaped curve, and the mean can be used as the central tendency from the variable."
   ]
  },
  {
   "cell_type": "markdown",
   "id": "fd58fbd3",
   "metadata": {},
   "source": [
    "## Correlation Between Happiness Variables"
   ]
  },
  {
   "cell_type": "markdown",
   "id": "fa2c2870",
   "metadata": {},
   "source": [
    "Is it possible from the seven variables that determine the happiness level of a country, that there is a certain variable that highly affects it? Let's find out about it"
   ]
  },
  {
   "cell_type": "code",
   "execution_count": 51,
   "id": "0b695888",
   "metadata": {},
   "outputs": [
    {
     "data": {
      "image/png": "[encoded data removed]",
      "text/plain": [
       "<Figure size 576x288 with 2 Axes>"
      ]
     },
     "metadata": {},
     "output_type": "display_data"
    }
   ],
   "source": [
    "# Get the correlation between variables in the dataframe\n",
    "corr = happy_df.corr()\n",
    "\n",
    "# Set the figure width and height\n",
    "plt.figure(figsize = (8,4))\n",
    "\n",
    "# Set the color to use for the heatmap\n",
    "cmap = sns.color_palette(\"OrRd\", as_cmap=True)\n",
    "\n",
    "# Plot the heatmap of correlation between variables in the dataframe\n",
    "ax = sns.heatmap(corr, cbar=True, annot=True, annot_kws={\"size\":12}, cmap=cmap, linewidths=1, linecolor='white')\n",
    "\n",
    "# Set the title, the labels, and custom ticks\n",
    "plt.title('Heatmap of Variables Correlation', fontsize = 16, pad=10)\n",
    "ax.tick_params(labelsize=12)\n",
    "\n",
    "# Show the plot\n",
    "plt.show()\n"
   ]
  },
  {
   "cell_type": "markdown",
   "id": "d52d8936",
   "metadata": {},
   "source": [
    "It looks like <strong>Economy(GDP per Capita), Family, and Health(Life Expectancy)</strong> have the greatest correlation with the Happiness Score each country made, which are above <strong>0.72</strong>."
   ]
  },
  {
   "cell_type": "markdown",
   "id": "efa67e64",
   "metadata": {},
   "source": [
    "## World Happiest Countries"
   ]
  },
  {
   "cell_type": "markdown",
   "id": "3acc3a2e",
   "metadata": {},
   "source": [
    "Which countries are belong to the happiest countries based on this data? Let's see the top 10 of them"
   ]
  },
  {
   "cell_type": "code",
   "execution_count": 53,
   "id": "cc733dae",
   "metadata": {},
   "outputs": [],
   "source": [
    "happy_10 = happy_df[['Country', 'Happiness Score']].head(10)"
   ]
  },
  {
   "cell_type": "code",
   "execution_count": 56,
   "id": "67e83f8f",
   "metadata": {},
   "outputs": [
    {
     "data": {
      "image/png": "[encoded data removed]",
      "text/plain": [
       "<Figure size 576x432 with 1 Axes>"
      ]
     },
     "metadata": {},
     "output_type": "display_data"
    }
   ],
   "source": [
    "plt.figure(figsize = (8,6)) # Set the figure width and height\n",
    "\n",
    "# Bar chart showing top 20 countries with highest contribution of GDP per capita on Hapiness level\n",
    "ax = sns.barplot(x='Happiness Score', y='Country', data=happy_10, palette='rainbow_r')\n",
    "\n",
    "# Set the chart style\n",
    "sns.set_style(\"ticks\")\n",
    "sns.despine()\n",
    "\n",
    "# Set the title, the labels, and custom ticks\n",
    "plt.title(\"Top 10 Happiest Countries in The World\", fontsize = 16, pad=10)\n",
    "ax.set_xlabel(\"Happiness Points\", fontsize=14, labelpad=5)\n",
    "ax.set_ylabel(\"\")\n",
    "ax.tick_params(labelsize=12)\n",
    "\n",
    "# Show the plot\n",
    "plt.show()"
   ]
  },
  {
   "cell_type": "markdown",
   "id": "9e2d3fd8",
   "metadata": {},
   "source": [
    "<strong>Finland, Denmark, Norway, Iceland, and Sweden</strong> that also known as the <strong>Nordic</strong> countries, dominated the list. Let's analyze how Nordic countries were able to secure the top 10 spots. Let's start with finding variables that highly affected their happiness score."
   ]
  },
  {
   "cell_type": "code",
   "execution_count": 57,
   "id": "364af30d",
   "metadata": {},
   "outputs": [
    {
     "data": {
      "text/html": [
       "<div>\n",
       "<style scoped>\n",
       "    .dataframe tbody tr th:only-of-type {\n",
       "        vertical-align: middle;\n",
       "    }\n",
       "\n",
       "    .dataframe tbody tr th {\n",
       "        vertical-align: top;\n",
       "    }\n",
       "\n",
       "    .dataframe thead th {\n",
       "        text-align: right;\n",
       "    }\n",
       "</style>\n",
       "<table border=\"1\" class=\"dataframe\">\n",
       "  <thead>\n",
       "    <tr style=\"text-align: right;\">\n",
       "      <th></th>\n",
       "      <th>Country</th>\n",
       "      <th>Region</th>\n",
       "      <th>Happiness Rank</th>\n",
       "      <th>Happiness Score</th>\n",
       "      <th>Standard Error</th>\n",
       "      <th>Economy (GDP per Capita)</th>\n",
       "      <th>Family</th>\n",
       "      <th>Health (Life Expectancy)</th>\n",
       "      <th>Freedom</th>\n",
       "      <th>Trust (Government Corruption)</th>\n",
       "      <th>Generosity</th>\n",
       "      <th>Dystopia Residual</th>\n",
       "    </tr>\n",
       "  </thead>\n",
       "  <tbody>\n",
       "    <tr>\n",
       "      <th>1</th>\n",
       "      <td>Iceland</td>\n",
       "      <td>Western Europe</td>\n",
       "      <td>2</td>\n",
       "      <td>7.561</td>\n",
       "      <td>0.04884</td>\n",
       "      <td>1.30232</td>\n",
       "      <td>1.40223</td>\n",
       "      <td>0.94784</td>\n",
       "      <td>0.62877</td>\n",
       "      <td>0.14145</td>\n",
       "      <td>0.43630</td>\n",
       "      <td>2.70201</td>\n",
       "    </tr>\n",
       "    <tr>\n",
       "      <th>2</th>\n",
       "      <td>Denmark</td>\n",
       "      <td>Western Europe</td>\n",
       "      <td>3</td>\n",
       "      <td>7.527</td>\n",
       "      <td>0.03328</td>\n",
       "      <td>1.32548</td>\n",
       "      <td>1.36058</td>\n",
       "      <td>0.87464</td>\n",
       "      <td>0.64938</td>\n",
       "      <td>0.48357</td>\n",
       "      <td>0.34139</td>\n",
       "      <td>2.49204</td>\n",
       "    </tr>\n",
       "    <tr>\n",
       "      <th>3</th>\n",
       "      <td>Norway</td>\n",
       "      <td>Western Europe</td>\n",
       "      <td>4</td>\n",
       "      <td>7.522</td>\n",
       "      <td>0.03880</td>\n",
       "      <td>1.45900</td>\n",
       "      <td>1.33095</td>\n",
       "      <td>0.88521</td>\n",
       "      <td>0.66973</td>\n",
       "      <td>0.36503</td>\n",
       "      <td>0.34699</td>\n",
       "      <td>2.46531</td>\n",
       "    </tr>\n",
       "    <tr>\n",
       "      <th>5</th>\n",
       "      <td>Finland</td>\n",
       "      <td>Western Europe</td>\n",
       "      <td>6</td>\n",
       "      <td>7.406</td>\n",
       "      <td>0.03140</td>\n",
       "      <td>1.29025</td>\n",
       "      <td>1.31826</td>\n",
       "      <td>0.88911</td>\n",
       "      <td>0.64169</td>\n",
       "      <td>0.41372</td>\n",
       "      <td>0.23351</td>\n",
       "      <td>2.61955</td>\n",
       "    </tr>\n",
       "    <tr>\n",
       "      <th>7</th>\n",
       "      <td>Sweden</td>\n",
       "      <td>Western Europe</td>\n",
       "      <td>8</td>\n",
       "      <td>7.364</td>\n",
       "      <td>0.03157</td>\n",
       "      <td>1.33171</td>\n",
       "      <td>1.28907</td>\n",
       "      <td>0.91087</td>\n",
       "      <td>0.65980</td>\n",
       "      <td>0.43844</td>\n",
       "      <td>0.36262</td>\n",
       "      <td>2.37119</td>\n",
       "    </tr>\n",
       "  </tbody>\n",
       "</table>\n",
       "</div>"
      ],
      "text/plain": [
       "   Country          Region Happiness Rank  Happiness Score  Standard Error  \\\n",
       "1  Iceland  Western Europe              2            7.561         0.04884   \n",
       "2  Denmark  Western Europe              3            7.527         0.03328   \n",
       "3   Norway  Western Europe              4            7.522         0.03880   \n",
       "5  Finland  Western Europe              6            7.406         0.03140   \n",
       "7   Sweden  Western Europe              8            7.364         0.03157   \n",
       "\n",
       "   Economy (GDP per Capita)   Family  Health (Life Expectancy)  Freedom  \\\n",
       "1                   1.30232  1.40223                   0.94784  0.62877   \n",
       "2                   1.32548  1.36058                   0.87464  0.64938   \n",
       "3                   1.45900  1.33095                   0.88521  0.66973   \n",
       "5                   1.29025  1.31826                   0.88911  0.64169   \n",
       "7                   1.33171  1.28907                   0.91087  0.65980   \n",
       "\n",
       "   Trust (Government Corruption)  Generosity  Dystopia Residual  \n",
       "1                        0.14145     0.43630            2.70201  \n",
       "2                        0.48357     0.34139            2.49204  \n",
       "3                        0.36503     0.34699            2.46531  \n",
       "5                        0.41372     0.23351            2.61955  \n",
       "7                        0.43844     0.36262            2.37119  "
      ]
     },
     "execution_count": 57,
     "metadata": {},
     "output_type": "execute_result"
    }
   ],
   "source": [
    "# Create a new dataframe for Nordic countries\n",
    "country = ['finland', 'denmark', 'norway', 'iceland', 'sweden']\n",
    "nordic = happy_df[happy_df['Country'].str.lower().isin(country)]\n",
    "nordic"
   ]
  },
  {
   "cell_type": "markdown",
   "id": "a6f6652a",
   "metadata": {},
   "source": [
    "## GDP per Capita and Happiness"
   ]
  },
  {
   "cell_type": "markdown",
   "id": "f2b7f440",
   "metadata": {},
   "source": [
    "First, let's find the countries with the highest GDP per capita points"
   ]
  },
  {
   "cell_type": "code",
   "execution_count": 58,
   "id": "a857bb79",
   "metadata": {},
   "outputs": [],
   "source": [
    "# List the top 10 countries with highest GDP per capita points\n",
    "gdp_10 = happy_df.sort_values(by='Economy (GDP per Capita)', ascending=False)[['Country', 'Economy (GDP per Capita)', 'Happiness Rank']].head(10)"
   ]
  },
  {
   "cell_type": "code",
   "execution_count": 60,
   "id": "7dc3c2c0",
   "metadata": {},
   "outputs": [
    {
     "data": {
      "image/png": "[encoded data removed]",
      "text/plain": [
       "<Figure size 576x432 with 1 Axes>"
      ]
     },
     "metadata": {},
     "output_type": "display_data"
    }
   ],
   "source": [
    "plt.figure(figsize = (8, 6)) # Set the figure width and height\n",
    "\n",
    "# Bar chart showing top 10 countries with highest contribution of GDP per capita on happiness level\n",
    "ax = sns.barplot(x='Economy (GDP per Capita)', y='Country', data=gdp_10, palette='summer')\n",
    "\n",
    "# Set the chart style\n",
    "sns.set_style(\"ticks\")\n",
    "sns.despine()\n",
    "\n",
    "# Set the title, the labels, and custom ticks\n",
    "plt.title(\"Top 10 Countries with Highest Contribution of GDP per Capita on Happiness Level\", fontsize = 16, pad=10)\n",
    "ax.set_xlabel(\"Economy (GDP per Capita)\", fontsize=14, labelpad=5)\n",
    "ax.set_ylabel(\"\")\n",
    "ax.tick_params(labelsize=12)\n",
    "\n",
    "# Show the plot\n",
    "plt.show()"
   ]
  },
  {
   "cell_type": "markdown",
   "id": "8c12eca9",
   "metadata": {},
   "source": [
    "From the GDP per capita variable, it doesn't look like this is a bigger deal in determining the Nordic countries' happiness level. From this list, only <strong>Norway</strong> is included in this list."
   ]
  },
  {
   "cell_type": "code",
   "execution_count": 61,
   "id": "be616451",
   "metadata": {},
   "outputs": [
    {
     "data": {
      "text/html": [
       "<div>\n",
       "<style scoped>\n",
       "    .dataframe tbody tr th:only-of-type {\n",
       "        vertical-align: middle;\n",
       "    }\n",
       "\n",
       "    .dataframe tbody tr th {\n",
       "        vertical-align: top;\n",
       "    }\n",
       "\n",
       "    .dataframe thead th {\n",
       "        text-align: right;\n",
       "    }\n",
       "</style>\n",
       "<table border=\"1\" class=\"dataframe\">\n",
       "  <thead>\n",
       "    <tr style=\"text-align: right;\">\n",
       "      <th></th>\n",
       "      <th>Country</th>\n",
       "      <th>Economy (GDP per Capita)</th>\n",
       "      <th>Happiness Rank</th>\n",
       "    </tr>\n",
       "  </thead>\n",
       "  <tbody>\n",
       "    <tr>\n",
       "      <th>0</th>\n",
       "      <td>Norway</td>\n",
       "      <td>1.459</td>\n",
       "      <td>4</td>\n",
       "    </tr>\n",
       "  </tbody>\n",
       "</table>\n",
       "</div>"
      ],
      "text/plain": [
       "  Country  Economy (GDP per Capita) Happiness Rank\n",
       "0  Norway                     1.459              4"
      ]
     },
     "execution_count": 61,
     "metadata": {},
     "output_type": "execute_result"
    }
   ],
   "source": [
    "# Check the country that also Nordic countries\n",
    "gdp_10[gdp_10['Country'].isin(nordic['Country'])].reset_index(drop=True)"
   ]
  },
  {
   "cell_type": "markdown",
   "id": "3026043b",
   "metadata": {},
   "source": [
    "Making the list larger reveals other Nordic countries, which are <strong>Norway, Denmark and Sweden</strong>. So, it's clear that Economy (GDP per Capita) is not the main variable of Nordic countries' happiness. But, this does not simply deny the fact that they already have slightly higher GDP per capita than other countries."
   ]
  },
  {
   "cell_type": "code",
   "execution_count": 62,
   "id": "3ff22749",
   "metadata": {},
   "outputs": [
    {
     "data": {
      "text/html": [
       "<div>\n",
       "<style scoped>\n",
       "    .dataframe tbody tr th:only-of-type {\n",
       "        vertical-align: middle;\n",
       "    }\n",
       "\n",
       "    .dataframe tbody tr th {\n",
       "        vertical-align: top;\n",
       "    }\n",
       "\n",
       "    .dataframe thead th {\n",
       "        text-align: right;\n",
       "    }\n",
       "</style>\n",
       "<table border=\"1\" class=\"dataframe\">\n",
       "  <thead>\n",
       "    <tr style=\"text-align: right;\">\n",
       "      <th></th>\n",
       "      <th>Country</th>\n",
       "      <th>Economy (GDP per Capita)</th>\n",
       "      <th>Happiness Rank</th>\n",
       "      <th>Nordic</th>\n",
       "    </tr>\n",
       "  </thead>\n",
       "  <tbody>\n",
       "    <tr>\n",
       "      <th>0</th>\n",
       "      <td>Qatar</td>\n",
       "      <td>1.69042</td>\n",
       "      <td>28</td>\n",
       "      <td>False</td>\n",
       "    </tr>\n",
       "    <tr>\n",
       "      <th>1</th>\n",
       "      <td>Luxembourg</td>\n",
       "      <td>1.56391</td>\n",
       "      <td>17</td>\n",
       "      <td>False</td>\n",
       "    </tr>\n",
       "    <tr>\n",
       "      <th>2</th>\n",
       "      <td>Kuwait</td>\n",
       "      <td>1.55422</td>\n",
       "      <td>39</td>\n",
       "      <td>False</td>\n",
       "    </tr>\n",
       "    <tr>\n",
       "      <th>3</th>\n",
       "      <td>Singapore</td>\n",
       "      <td>1.52186</td>\n",
       "      <td>24</td>\n",
       "      <td>False</td>\n",
       "    </tr>\n",
       "    <tr>\n",
       "      <th>4</th>\n",
       "      <td>Norway</td>\n",
       "      <td>1.45900</td>\n",
       "      <td>4</td>\n",
       "      <td>True</td>\n",
       "    </tr>\n",
       "    <tr>\n",
       "      <th>5</th>\n",
       "      <td>United Arab Emirates</td>\n",
       "      <td>1.42727</td>\n",
       "      <td>20</td>\n",
       "      <td>False</td>\n",
       "    </tr>\n",
       "    <tr>\n",
       "      <th>6</th>\n",
       "      <td>Switzerland</td>\n",
       "      <td>1.39651</td>\n",
       "      <td>1</td>\n",
       "      <td>False</td>\n",
       "    </tr>\n",
       "    <tr>\n",
       "      <th>7</th>\n",
       "      <td>Saudi Arabia</td>\n",
       "      <td>1.39541</td>\n",
       "      <td>35</td>\n",
       "      <td>False</td>\n",
       "    </tr>\n",
       "    <tr>\n",
       "      <th>8</th>\n",
       "      <td>United States</td>\n",
       "      <td>1.39451</td>\n",
       "      <td>15</td>\n",
       "      <td>False</td>\n",
       "    </tr>\n",
       "    <tr>\n",
       "      <th>9</th>\n",
       "      <td>Hong Kong</td>\n",
       "      <td>1.38604</td>\n",
       "      <td>72</td>\n",
       "      <td>False</td>\n",
       "    </tr>\n",
       "    <tr>\n",
       "      <th>10</th>\n",
       "      <td>Oman</td>\n",
       "      <td>1.36011</td>\n",
       "      <td>22</td>\n",
       "      <td>False</td>\n",
       "    </tr>\n",
       "    <tr>\n",
       "      <th>11</th>\n",
       "      <td>Austria</td>\n",
       "      <td>1.33723</td>\n",
       "      <td>13</td>\n",
       "      <td>False</td>\n",
       "    </tr>\n",
       "    <tr>\n",
       "      <th>12</th>\n",
       "      <td>Ireland</td>\n",
       "      <td>1.33596</td>\n",
       "      <td>18</td>\n",
       "      <td>False</td>\n",
       "    </tr>\n",
       "    <tr>\n",
       "      <th>13</th>\n",
       "      <td>Australia</td>\n",
       "      <td>1.33358</td>\n",
       "      <td>10</td>\n",
       "      <td>False</td>\n",
       "    </tr>\n",
       "    <tr>\n",
       "      <th>14</th>\n",
       "      <td>Sweden</td>\n",
       "      <td>1.33171</td>\n",
       "      <td>8</td>\n",
       "      <td>True</td>\n",
       "    </tr>\n",
       "    <tr>\n",
       "      <th>15</th>\n",
       "      <td>Netherlands</td>\n",
       "      <td>1.32944</td>\n",
       "      <td>7</td>\n",
       "      <td>False</td>\n",
       "    </tr>\n",
       "    <tr>\n",
       "      <th>16</th>\n",
       "      <td>Germany</td>\n",
       "      <td>1.32792</td>\n",
       "      <td>26</td>\n",
       "      <td>False</td>\n",
       "    </tr>\n",
       "    <tr>\n",
       "      <th>17</th>\n",
       "      <td>Canada</td>\n",
       "      <td>1.32629</td>\n",
       "      <td>5</td>\n",
       "      <td>False</td>\n",
       "    </tr>\n",
       "    <tr>\n",
       "      <th>18</th>\n",
       "      <td>Denmark</td>\n",
       "      <td>1.32548</td>\n",
       "      <td>3</td>\n",
       "      <td>True</td>\n",
       "    </tr>\n",
       "    <tr>\n",
       "      <th>19</th>\n",
       "      <td>Bahrain</td>\n",
       "      <td>1.32376</td>\n",
       "      <td>49</td>\n",
       "      <td>False</td>\n",
       "    </tr>\n",
       "  </tbody>\n",
       "</table>\n",
       "</div>"
      ],
      "text/plain": [
       "                 Country  Economy (GDP per Capita) Happiness Rank  Nordic\n",
       "0                  Qatar                   1.69042             28   False\n",
       "1             Luxembourg                   1.56391             17   False\n",
       "2                 Kuwait                   1.55422             39   False\n",
       "3              Singapore                   1.52186             24   False\n",
       "4                 Norway                   1.45900              4    True\n",
       "5   United Arab Emirates                   1.42727             20   False\n",
       "6            Switzerland                   1.39651              1   False\n",
       "7           Saudi Arabia                   1.39541             35   False\n",
       "8          United States                   1.39451             15   False\n",
       "9              Hong Kong                   1.38604             72   False\n",
       "10                  Oman                   1.36011             22   False\n",
       "11               Austria                   1.33723             13   False\n",
       "12               Ireland                   1.33596             18   False\n",
       "13             Australia                   1.33358             10   False\n",
       "14                Sweden                   1.33171              8    True\n",
       "15           Netherlands                   1.32944              7   False\n",
       "16               Germany                   1.32792             26   False\n",
       "17                Canada                   1.32629              5   False\n",
       "18               Denmark                   1.32548              3    True\n",
       "19               Bahrain                   1.32376             49   False"
      ]
     },
     "execution_count": 62,
     "metadata": {},
     "output_type": "execute_result"
    }
   ],
   "source": [
    "# List the top 20 countries with highest GDP per capita points\n",
    "gdp_20 = happy_df.sort_values(by='Economy (GDP per Capita)', ascending=False).reset_index(drop=True)[['Country', 'Economy (GDP per Capita)', 'Happiness Rank']].head(20)\n",
    "\n",
    "# Find the position of Nordic countries in the list\n",
    "gdp_20['Nordic'] = np.where(gdp_20['Country'].isin(nordic['Country']), True, False)\n",
    "gdp_20"
   ]
  },
  {
   "cell_type": "markdown",
   "id": "62578663",
   "metadata": {},
   "source": [
    "## Social Support and Happiness"
   ]
  },
  {
   "cell_type": "code",
   "execution_count": 64,
   "id": "71a48f47",
   "metadata": {},
   "outputs": [],
   "source": [
    "# List the top 10 countries with highest social support points\n",
    "social_10 = happy_df.sort_values(by='Family', ascending=False)[['Country', 'Family', 'Happiness Rank']].head(10)"
   ]
  },
  {
   "cell_type": "code",
   "execution_count": 65,
   "id": "53d61980",
   "metadata": {},
   "outputs": [
    {
     "data": {
      "image/png": "[encoded data removed]",
      "text/plain": [
       "<Figure size 576x432 with 1 Axes>"
      ]
     },
     "metadata": {},
     "output_type": "display_data"
    }
   ],
   "source": [
    "plt.figure(figsize = (8, 6)) # Set the figure width and height\n",
    "\n",
    "# Bar chart showing top 10 countries with highest contribution of social support on happiness level\n",
    "ax = sns.barplot(x='Family', y='Country', data=social_10, palette='spring')\n",
    "\n",
    "# Set the chart style\n",
    "sns.set_style(\"ticks\")\n",
    "sns.despine()\n",
    "\n",
    "# Set the title, the labels, and custom ticks\n",
    "plt.title(\"Top 10 Countries with Highest Contribution of Family on Happiness Level\", fontsize = 16, pad=10)\n",
    "ax.set_xlabel(\"Family Support Points\", fontsize=14, labelpad=5)\n",
    "ax.set_ylabel(\"\")\n",
    "ax.tick_params(labelsize=12)\n",
    "\n",
    "# Show the plot\n",
    "plt.show()"
   ]
  },
  {
   "cell_type": "code",
   "execution_count": 66,
   "id": "75827c32",
   "metadata": {},
   "outputs": [
    {
     "data": {
      "text/html": [
       "<div>\n",
       "<style scoped>\n",
       "    .dataframe tbody tr th:only-of-type {\n",
       "        vertical-align: middle;\n",
       "    }\n",
       "\n",
       "    .dataframe tbody tr th {\n",
       "        vertical-align: top;\n",
       "    }\n",
       "\n",
       "    .dataframe thead th {\n",
       "        text-align: right;\n",
       "    }\n",
       "</style>\n",
       "<table border=\"1\" class=\"dataframe\">\n",
       "  <thead>\n",
       "    <tr style=\"text-align: right;\">\n",
       "      <th></th>\n",
       "      <th>Country</th>\n",
       "      <th>Family</th>\n",
       "      <th>Happiness Rank</th>\n",
       "    </tr>\n",
       "  </thead>\n",
       "  <tbody>\n",
       "    <tr>\n",
       "      <th>0</th>\n",
       "      <td>Iceland</td>\n",
       "      <td>1.40223</td>\n",
       "      <td>2</td>\n",
       "    </tr>\n",
       "    <tr>\n",
       "      <th>1</th>\n",
       "      <td>Denmark</td>\n",
       "      <td>1.36058</td>\n",
       "      <td>3</td>\n",
       "    </tr>\n",
       "    <tr>\n",
       "      <th>2</th>\n",
       "      <td>Norway</td>\n",
       "      <td>1.33095</td>\n",
       "      <td>4</td>\n",
       "    </tr>\n",
       "    <tr>\n",
       "      <th>3</th>\n",
       "      <td>Finland</td>\n",
       "      <td>1.31826</td>\n",
       "      <td>6</td>\n",
       "    </tr>\n",
       "  </tbody>\n",
       "</table>\n",
       "</div>"
      ],
      "text/plain": [
       "   Country   Family Happiness Rank\n",
       "0  Iceland  1.40223              2\n",
       "1  Denmark  1.36058              3\n",
       "2   Norway  1.33095              4\n",
       "3  Finland  1.31826              6"
      ]
     },
     "execution_count": 66,
     "metadata": {},
     "output_type": "execute_result"
    }
   ],
   "source": [
    "# Check the country that also Nordic countries\n",
    "social_10[social_10['Country'].isin(nordic['Country'])].reset_index(drop=True)"
   ]
  },
  {
   "cell_type": "markdown",
   "id": "ee4eeeba",
   "metadata": {},
   "source": [
    "It looks like Family support is the highest contributor to the Nordic countries' overall happiness level. 4/5 Nordic countries have higher Family support points than every country in the world."
   ]
  },
  {
   "cell_type": "markdown",
   "id": "c38d0327",
   "metadata": {},
   "source": [
    "## Healthy Life Expectancy and Happiness"
   ]
  },
  {
   "cell_type": "code",
   "execution_count": 67,
   "id": "ec1fecff",
   "metadata": {},
   "outputs": [],
   "source": [
    "# Is high life expectancy make a happy country?\n",
    "life_10 = happy_df.sort_values(by='Health (Life Expectancy)', ascending=False)[['Country', 'Health (Life Expectancy)', 'Happiness Rank']].head(10)"
   ]
  },
  {
   "cell_type": "code",
   "execution_count": 68,
   "id": "38872b35",
   "metadata": {},
   "outputs": [
    {
     "data": {
      "image/png": "[encoded data removed]",
      "text/plain": [
       "<Figure size 576x432 with 1 Axes>"
      ]
     },
     "metadata": {},
     "output_type": "display_data"
    }
   ],
   "source": [
    "plt.figure(figsize = (8, 6)) # Set the figure width and height\n",
    "\n",
    "# Bar chart showing top 10 countries with highest contribution of healthy life expectancy on happiness level\n",
    "ax = sns.barplot(x='Health (Life Expectancy)', y='Country', data=life_10, palette='coolwarm')\n",
    "\n",
    "# Set the chart style\n",
    "sns.set_style(\"ticks\")\n",
    "sns.despine()\n",
    "\n",
    "# Set the title, the labels, and custom ticks\n",
    "plt.title(\"Top 10 Countries with Highest Contribution of Life Expectancy on Happiness Level\", fontsize = 16, pad=10)\n",
    "ax.set_xlabel(\"Life Expectancy Points\", fontsize=14, labelpad=5)\n",
    "ax.set_ylabel(\"\")\n",
    "ax.tick_params(labelsize=12)\n",
    "\n",
    "# Show the plot\n",
    "plt.show()"
   ]
  },
  {
   "cell_type": "code",
   "execution_count": 70,
   "id": "dbd5e5c8",
   "metadata": {},
   "outputs": [
    {
     "data": {
      "text/html": [
       "<div>\n",
       "<style scoped>\n",
       "    .dataframe tbody tr th:only-of-type {\n",
       "        vertical-align: middle;\n",
       "    }\n",
       "\n",
       "    .dataframe tbody tr th {\n",
       "        vertical-align: top;\n",
       "    }\n",
       "\n",
       "    .dataframe thead th {\n",
       "        text-align: right;\n",
       "    }\n",
       "</style>\n",
       "<table border=\"1\" class=\"dataframe\">\n",
       "  <thead>\n",
       "    <tr style=\"text-align: right;\">\n",
       "      <th></th>\n",
       "      <th>Country</th>\n",
       "      <th>Health (Life Expectancy)</th>\n",
       "      <th>Happiness Rank</th>\n",
       "    </tr>\n",
       "  </thead>\n",
       "  <tbody>\n",
       "    <tr>\n",
       "      <th>0</th>\n",
       "      <td>Iceland</td>\n",
       "      <td>0.94784</td>\n",
       "      <td>2</td>\n",
       "    </tr>\n",
       "  </tbody>\n",
       "</table>\n",
       "</div>"
      ],
      "text/plain": [
       "   Country  Health (Life Expectancy) Happiness Rank\n",
       "0  Iceland                   0.94784              2"
      ]
     },
     "execution_count": 70,
     "metadata": {},
     "output_type": "execute_result"
    }
   ],
   "source": [
    "# Check the country that also Nordic countries\n",
    "life_10[life_10['Country'].isin(nordic['Country'])].reset_index(drop=True)"
   ]
  },
  {
   "cell_type": "markdown",
   "id": "ac02af2b",
   "metadata": {},
   "source": [
    "Just like the GDP per capita case, even though these two variables have a great correlation with the score variable, this is not the case for the Nordic countries. Even if the list of countries with the highest contribution of life expectancy score is made to include the top 20 countries, only 2/5 of Nordic countries are on the list."
   ]
  },
  {
   "cell_type": "code",
   "execution_count": 71,
   "id": "e87b6b41",
   "metadata": {},
   "outputs": [
    {
     "data": {
      "text/html": [
       "<div>\n",
       "<style scoped>\n",
       "    .dataframe tbody tr th:only-of-type {\n",
       "        vertical-align: middle;\n",
       "    }\n",
       "\n",
       "    .dataframe tbody tr th {\n",
       "        vertical-align: top;\n",
       "    }\n",
       "\n",
       "    .dataframe thead th {\n",
       "        text-align: right;\n",
       "    }\n",
       "</style>\n",
       "<table border=\"1\" class=\"dataframe\">\n",
       "  <thead>\n",
       "    <tr style=\"text-align: right;\">\n",
       "      <th></th>\n",
       "      <th>Country</th>\n",
       "      <th>Health (Life Expectancy)</th>\n",
       "      <th>Happiness Rank</th>\n",
       "      <th>Nordic</th>\n",
       "    </tr>\n",
       "  </thead>\n",
       "  <tbody>\n",
       "    <tr>\n",
       "      <th>0</th>\n",
       "      <td>Singapore</td>\n",
       "      <td>1.02525</td>\n",
       "      <td>24</td>\n",
       "      <td>False</td>\n",
       "    </tr>\n",
       "    <tr>\n",
       "      <th>1</th>\n",
       "      <td>Hong Kong</td>\n",
       "      <td>1.01328</td>\n",
       "      <td>72</td>\n",
       "      <td>False</td>\n",
       "    </tr>\n",
       "    <tr>\n",
       "      <th>2</th>\n",
       "      <td>Japan</td>\n",
       "      <td>0.99111</td>\n",
       "      <td>46</td>\n",
       "      <td>False</td>\n",
       "    </tr>\n",
       "    <tr>\n",
       "      <th>3</th>\n",
       "      <td>South Korea</td>\n",
       "      <td>0.96538</td>\n",
       "      <td>47</td>\n",
       "      <td>False</td>\n",
       "    </tr>\n",
       "    <tr>\n",
       "      <th>4</th>\n",
       "      <td>Spain</td>\n",
       "      <td>0.95562</td>\n",
       "      <td>36</td>\n",
       "      <td>False</td>\n",
       "    </tr>\n",
       "    <tr>\n",
       "      <th>5</th>\n",
       "      <td>Italy</td>\n",
       "      <td>0.95446</td>\n",
       "      <td>50</td>\n",
       "      <td>False</td>\n",
       "    </tr>\n",
       "    <tr>\n",
       "      <th>6</th>\n",
       "      <td>Iceland</td>\n",
       "      <td>0.94784</td>\n",
       "      <td>2</td>\n",
       "      <td>True</td>\n",
       "    </tr>\n",
       "    <tr>\n",
       "      <th>7</th>\n",
       "      <td>France</td>\n",
       "      <td>0.94579</td>\n",
       "      <td>29</td>\n",
       "      <td>False</td>\n",
       "    </tr>\n",
       "    <tr>\n",
       "      <th>8</th>\n",
       "      <td>Switzerland</td>\n",
       "      <td>0.94143</td>\n",
       "      <td>1</td>\n",
       "      <td>False</td>\n",
       "    </tr>\n",
       "    <tr>\n",
       "      <th>9</th>\n",
       "      <td>Australia</td>\n",
       "      <td>0.93156</td>\n",
       "      <td>10</td>\n",
       "      <td>False</td>\n",
       "    </tr>\n",
       "    <tr>\n",
       "      <th>10</th>\n",
       "      <td>North Cyprus</td>\n",
       "      <td>0.92356</td>\n",
       "      <td>66</td>\n",
       "      <td>False</td>\n",
       "    </tr>\n",
       "    <tr>\n",
       "      <th>11</th>\n",
       "      <td>Cyprus</td>\n",
       "      <td>0.92356</td>\n",
       "      <td>67</td>\n",
       "      <td>False</td>\n",
       "    </tr>\n",
       "    <tr>\n",
       "      <th>12</th>\n",
       "      <td>Luxembourg</td>\n",
       "      <td>0.91894</td>\n",
       "      <td>17</td>\n",
       "      <td>False</td>\n",
       "    </tr>\n",
       "    <tr>\n",
       "      <th>13</th>\n",
       "      <td>Israel</td>\n",
       "      <td>0.91387</td>\n",
       "      <td>11</td>\n",
       "      <td>False</td>\n",
       "    </tr>\n",
       "    <tr>\n",
       "      <th>14</th>\n",
       "      <td>Sweden</td>\n",
       "      <td>0.91087</td>\n",
       "      <td>8</td>\n",
       "      <td>True</td>\n",
       "    </tr>\n",
       "    <tr>\n",
       "      <th>15</th>\n",
       "      <td>United Kingdom</td>\n",
       "      <td>0.90943</td>\n",
       "      <td>21</td>\n",
       "      <td>False</td>\n",
       "    </tr>\n",
       "    <tr>\n",
       "      <th>16</th>\n",
       "      <td>New Zealand</td>\n",
       "      <td>0.90837</td>\n",
       "      <td>9</td>\n",
       "      <td>False</td>\n",
       "    </tr>\n",
       "    <tr>\n",
       "      <th>17</th>\n",
       "      <td>Canada</td>\n",
       "      <td>0.90563</td>\n",
       "      <td>5</td>\n",
       "      <td>False</td>\n",
       "    </tr>\n",
       "    <tr>\n",
       "      <th>18</th>\n",
       "      <td>Belgium</td>\n",
       "      <td>0.89667</td>\n",
       "      <td>19</td>\n",
       "      <td>False</td>\n",
       "    </tr>\n",
       "    <tr>\n",
       "      <th>19</th>\n",
       "      <td>Ireland</td>\n",
       "      <td>0.89533</td>\n",
       "      <td>18</td>\n",
       "      <td>False</td>\n",
       "    </tr>\n",
       "  </tbody>\n",
       "</table>\n",
       "</div>"
      ],
      "text/plain": [
       "           Country  Health (Life Expectancy) Happiness Rank  Nordic\n",
       "0        Singapore                   1.02525             24   False\n",
       "1        Hong Kong                   1.01328             72   False\n",
       "2            Japan                   0.99111             46   False\n",
       "3      South Korea                   0.96538             47   False\n",
       "4            Spain                   0.95562             36   False\n",
       "5            Italy                   0.95446             50   False\n",
       "6          Iceland                   0.94784              2    True\n",
       "7           France                   0.94579             29   False\n",
       "8      Switzerland                   0.94143              1   False\n",
       "9        Australia                   0.93156             10   False\n",
       "10    North Cyprus                   0.92356             66   False\n",
       "11          Cyprus                   0.92356             67   False\n",
       "12      Luxembourg                   0.91894             17   False\n",
       "13          Israel                   0.91387             11   False\n",
       "14          Sweden                   0.91087              8    True\n",
       "15  United Kingdom                   0.90943             21   False\n",
       "16     New Zealand                   0.90837              9   False\n",
       "17          Canada                   0.90563              5   False\n",
       "18         Belgium                   0.89667             19   False\n",
       "19         Ireland                   0.89533             18   False"
      ]
     },
     "execution_count": 71,
     "metadata": {},
     "output_type": "execute_result"
    }
   ],
   "source": [
    "# List the top 20 countries with highest Healthy life expectancy points\n",
    "life_20 = happy_df.sort_values(by='Health (Life Expectancy)', ascending=False).reset_index(drop=True)[['Country', 'Health (Life Expectancy)', 'Happiness Rank']].head(20)\n",
    "\n",
    "# Find the position of Nordic countries in the list\n",
    "life_20['Nordic'] = np.where(life_20['Country'].isin(nordic['Country']), True, False)\n",
    "life_20"
   ]
  },
  {
   "cell_type": "markdown",
   "id": "ab97a27a",
   "metadata": {},
   "source": [
    "Of the three variables, which are Economy (GDP per Capita), Family, and Health (Life Expectancy), that have the greatest correlation to the happiness score, only Family has the highest influence on Nordic countries' overall happiness.\n",
    "\n",
    "How about the other variables with a lower correlation to the happiness score, which is Freedom to make life choices, Generosity, and Trust (Government Corruption)?"
   ]
  },
  {
   "cell_type": "markdown",
   "id": "af5c55b3",
   "metadata": {},
   "source": [
    "## Freedom to Make Life Choices and Happiness"
   ]
  },
  {
   "cell_type": "code",
   "execution_count": 73,
   "id": "211591d6",
   "metadata": {},
   "outputs": [],
   "source": [
    "# List the top 10 countries with highest freedom to make life choices points\n",
    "freedom_10 = happy_df.sort_values(by='Freedom', ascending=False)[['Country', 'Freedom', 'Happiness Rank']].head(10)"
   ]
  },
  {
   "cell_type": "code",
   "execution_count": 74,
   "id": "cf3c1c00",
   "metadata": {},
   "outputs": [
    {
     "data": {
      "image/png": "[encoded data removed]",
      "text/plain": [
       "<Figure size 576x432 with 1 Axes>"
      ]
     },
     "metadata": {},
     "output_type": "display_data"
    }
   ],
   "source": [
    "plt.figure(figsize = (8, 6)) # Set the figure width and height\n",
    "\n",
    "# Bar chart showing top 10 countries with highest contribution of freedom to make life choices on happiness level\n",
    "ax = sns.barplot(x='Freedom', y='Country', data=freedom_10, palette='autumn')\n",
    "\n",
    "# Set the chart style\n",
    "sns.set_style(\"ticks\")\n",
    "sns.despine()\n",
    "\n",
    "# Set the title, the labels, and custom ticks\n",
    "plt.title(\"Top 10 Countries with Highest Contribution of Freedom on Happiness Level\", fontsize = 16, pad=10)\n",
    "ax.set_xlabel(\"Freedom Points\", fontsize=14, labelpad=5)\n",
    "ax.set_ylabel(\"\")\n",
    "ax.tick_params(labelsize=12)\n",
    "\n",
    "# Show the plot\n",
    "plt.show()"
   ]
  },
  {
   "cell_type": "code",
   "execution_count": 75,
   "id": "105587e6",
   "metadata": {},
   "outputs": [
    {
     "data": {
      "text/html": [
       "<div>\n",
       "<style scoped>\n",
       "    .dataframe tbody tr th:only-of-type {\n",
       "        vertical-align: middle;\n",
       "    }\n",
       "\n",
       "    .dataframe tbody tr th {\n",
       "        vertical-align: top;\n",
       "    }\n",
       "\n",
       "    .dataframe thead th {\n",
       "        text-align: right;\n",
       "    }\n",
       "</style>\n",
       "<table border=\"1\" class=\"dataframe\">\n",
       "  <thead>\n",
       "    <tr style=\"text-align: right;\">\n",
       "      <th></th>\n",
       "      <th>Country</th>\n",
       "      <th>Freedom</th>\n",
       "      <th>Happiness Rank</th>\n",
       "    </tr>\n",
       "  </thead>\n",
       "  <tbody>\n",
       "    <tr>\n",
       "      <th>0</th>\n",
       "      <td>Norway</td>\n",
       "      <td>0.66973</td>\n",
       "      <td>4</td>\n",
       "    </tr>\n",
       "    <tr>\n",
       "      <th>1</th>\n",
       "      <td>Sweden</td>\n",
       "      <td>0.65980</td>\n",
       "      <td>8</td>\n",
       "    </tr>\n",
       "    <tr>\n",
       "      <th>2</th>\n",
       "      <td>Denmark</td>\n",
       "      <td>0.64938</td>\n",
       "      <td>3</td>\n",
       "    </tr>\n",
       "    <tr>\n",
       "      <th>3</th>\n",
       "      <td>Finland</td>\n",
       "      <td>0.64169</td>\n",
       "      <td>6</td>\n",
       "    </tr>\n",
       "  </tbody>\n",
       "</table>\n",
       "</div>"
      ],
      "text/plain": [
       "   Country  Freedom Happiness Rank\n",
       "0   Norway  0.66973              4\n",
       "1   Sweden  0.65980              8\n",
       "2  Denmark  0.64938              3\n",
       "3  Finland  0.64169              6"
      ]
     },
     "execution_count": 75,
     "metadata": {},
     "output_type": "execute_result"
    }
   ],
   "source": [
    "# Check the country that also Nordic countries\n",
    "freedom_10[freedom_10['Country'].isin(nordic['Country'])].reset_index(drop=True)"
   ]
  },
  {
   "cell_type": "markdown",
   "id": "e491b7c9",
   "metadata": {},
   "source": [
    "Even though Freedom has a lower correlation to the happiness score, this variable has a high influence on Nordic countries' happiness scores. This is proved by the fact that every Nordic country is listed in the top 10 countries with the highest freedom score list."
   ]
  },
  {
   "cell_type": "markdown",
   "id": "adc3aa2d",
   "metadata": {},
   "source": [
    "## Generosity and Happiness"
   ]
  },
  {
   "cell_type": "code",
   "execution_count": 76,
   "id": "bdbb9a6c",
   "metadata": {},
   "outputs": [],
   "source": [
    "# List the top 10 countries with highest generosity points\n",
    "generosity_10 = happy_df.sort_values(by='Generosity', ascending=False)[['Country', 'Generosity', 'Happiness Rank']].head(10)"
   ]
  },
  {
   "cell_type": "code",
   "execution_count": 77,
   "id": "fcbd2edd",
   "metadata": {},
   "outputs": [
    {
     "data": {
      "image/png": "[encoded data removed]",
      "text/plain": [
       "<Figure size 576x432 with 1 Axes>"
      ]
     },
     "metadata": {},
     "output_type": "display_data"
    }
   ],
   "source": [
    "plt.figure(figsize = (8, 6)) # Set the figure width and height\n",
    "\n",
    "# Bar chart showing top 10 countries with highest contribution of generosity on happiness level\n",
    "ax = sns.barplot(x='Generosity', y='Country', data=generosity_10, palette='cool')\n",
    "\n",
    "# Set the chart style\n",
    "sns.set_style(\"ticks\")\n",
    "sns.despine()\n",
    "\n",
    "# Set the title, the labels, and custom ticks\n",
    "plt.title(\"Top 10 Countries with Highest Contribution of Generosity on Happiness Level\", fontsize = 16, pad=10)\n",
    "ax.set_xlabel(\"Generosity Points\", fontsize=14, labelpad=5)\n",
    "ax.set_ylabel(\"\")\n",
    "ax.tick_params(labelsize=12)\n",
    "\n",
    "# Show the plot\n",
    "plt.show()\n"
   ]
  },
  {
   "cell_type": "code",
   "execution_count": 79,
   "id": "49bb38d1",
   "metadata": {},
   "outputs": [
    {
     "data": {
      "text/html": [
       "<div>\n",
       "<style scoped>\n",
       "    .dataframe tbody tr th:only-of-type {\n",
       "        vertical-align: middle;\n",
       "    }\n",
       "\n",
       "    .dataframe tbody tr th {\n",
       "        vertical-align: top;\n",
       "    }\n",
       "\n",
       "    .dataframe thead th {\n",
       "        text-align: right;\n",
       "    }\n",
       "</style>\n",
       "<table border=\"1\" class=\"dataframe\">\n",
       "  <thead>\n",
       "    <tr style=\"text-align: right;\">\n",
       "      <th></th>\n",
       "      <th>Country</th>\n",
       "      <th>Generosity</th>\n",
       "      <th>Happiness Rank</th>\n",
       "    </tr>\n",
       "  </thead>\n",
       "  <tbody>\n",
       "  </tbody>\n",
       "</table>\n",
       "</div>"
      ],
      "text/plain": [
       "Empty DataFrame\n",
       "Columns: [Country, Generosity, Happiness Rank]\n",
       "Index: []"
      ]
     },
     "execution_count": 79,
     "metadata": {},
     "output_type": "execute_result"
    }
   ],
   "source": [
    "# Check the country that also Nordic countries\n",
    "generosity_10[generosity_10['Country'].isin(nordic['Country'])].reset_index(drop=True)"
   ]
  },
  {
   "cell_type": "markdown",
   "id": "5cb4b1b9",
   "metadata": {},
   "source": [
    "Generosity does not have a meaningful meaning in Nordic countries' happiness scores. Even when the list changed to the top 20 countries with the highest Generosity score, still no country that included in it."
   ]
  },
  {
   "cell_type": "code",
   "execution_count": 80,
   "id": "fde16d3b",
   "metadata": {},
   "outputs": [
    {
     "data": {
      "text/html": [
       "<div>\n",
       "<style scoped>\n",
       "    .dataframe tbody tr th:only-of-type {\n",
       "        vertical-align: middle;\n",
       "    }\n",
       "\n",
       "    .dataframe tbody tr th {\n",
       "        vertical-align: top;\n",
       "    }\n",
       "\n",
       "    .dataframe thead th {\n",
       "        text-align: right;\n",
       "    }\n",
       "</style>\n",
       "<table border=\"1\" class=\"dataframe\">\n",
       "  <thead>\n",
       "    <tr style=\"text-align: right;\">\n",
       "      <th></th>\n",
       "      <th>Country</th>\n",
       "      <th>Generosity</th>\n",
       "      <th>Happiness Rank</th>\n",
       "      <th>Nordic</th>\n",
       "    </tr>\n",
       "  </thead>\n",
       "  <tbody>\n",
       "    <tr>\n",
       "      <th>0</th>\n",
       "      <td>Myanmar</td>\n",
       "      <td>0.79588</td>\n",
       "      <td>129</td>\n",
       "      <td>False</td>\n",
       "    </tr>\n",
       "    <tr>\n",
       "      <th>1</th>\n",
       "      <td>Thailand</td>\n",
       "      <td>0.57630</td>\n",
       "      <td>34</td>\n",
       "      <td>False</td>\n",
       "    </tr>\n",
       "    <tr>\n",
       "      <th>2</th>\n",
       "      <td>United Kingdom</td>\n",
       "      <td>0.51912</td>\n",
       "      <td>21</td>\n",
       "      <td>False</td>\n",
       "    </tr>\n",
       "    <tr>\n",
       "      <th>3</th>\n",
       "      <td>Malta</td>\n",
       "      <td>0.51752</td>\n",
       "      <td>37</td>\n",
       "      <td>False</td>\n",
       "    </tr>\n",
       "    <tr>\n",
       "      <th>4</th>\n",
       "      <td>Indonesia</td>\n",
       "      <td>0.51535</td>\n",
       "      <td>74</td>\n",
       "      <td>False</td>\n",
       "    </tr>\n",
       "    <tr>\n",
       "      <th>5</th>\n",
       "      <td>Somaliland region</td>\n",
       "      <td>0.50318</td>\n",
       "      <td>91</td>\n",
       "      <td>False</td>\n",
       "    </tr>\n",
       "    <tr>\n",
       "      <th>6</th>\n",
       "      <td>Bhutan</td>\n",
       "      <td>0.47998</td>\n",
       "      <td>79</td>\n",
       "      <td>False</td>\n",
       "    </tr>\n",
       "    <tr>\n",
       "      <th>7</th>\n",
       "      <td>Netherlands</td>\n",
       "      <td>0.47610</td>\n",
       "      <td>7</td>\n",
       "      <td>False</td>\n",
       "    </tr>\n",
       "    <tr>\n",
       "      <th>8</th>\n",
       "      <td>New Zealand</td>\n",
       "      <td>0.47501</td>\n",
       "      <td>9</td>\n",
       "      <td>False</td>\n",
       "    </tr>\n",
       "    <tr>\n",
       "      <th>9</th>\n",
       "      <td>Syria</td>\n",
       "      <td>0.47179</td>\n",
       "      <td>156</td>\n",
       "      <td>False</td>\n",
       "    </tr>\n",
       "    <tr>\n",
       "      <th>10</th>\n",
       "      <td>Haiti</td>\n",
       "      <td>0.46187</td>\n",
       "      <td>119</td>\n",
       "      <td>False</td>\n",
       "    </tr>\n",
       "    <tr>\n",
       "      <th>11</th>\n",
       "      <td>Ireland</td>\n",
       "      <td>0.45901</td>\n",
       "      <td>18</td>\n",
       "      <td>False</td>\n",
       "    </tr>\n",
       "    <tr>\n",
       "      <th>12</th>\n",
       "      <td>Canada</td>\n",
       "      <td>0.45811</td>\n",
       "      <td>5</td>\n",
       "      <td>False</td>\n",
       "    </tr>\n",
       "    <tr>\n",
       "      <th>13</th>\n",
       "      <td>Iceland</td>\n",
       "      <td>0.43630</td>\n",
       "      <td>2</td>\n",
       "      <td>True</td>\n",
       "    </tr>\n",
       "    <tr>\n",
       "      <th>14</th>\n",
       "      <td>Australia</td>\n",
       "      <td>0.43562</td>\n",
       "      <td>10</td>\n",
       "      <td>False</td>\n",
       "    </tr>\n",
       "    <tr>\n",
       "      <th>15</th>\n",
       "      <td>Laos</td>\n",
       "      <td>0.42192</td>\n",
       "      <td>99</td>\n",
       "      <td>False</td>\n",
       "    </tr>\n",
       "    <tr>\n",
       "      <th>16</th>\n",
       "      <td>Sri Lanka</td>\n",
       "      <td>0.40828</td>\n",
       "      <td>132</td>\n",
       "      <td>False</td>\n",
       "    </tr>\n",
       "    <tr>\n",
       "      <th>17</th>\n",
       "      <td>Cambodia</td>\n",
       "      <td>0.40359</td>\n",
       "      <td>145</td>\n",
       "      <td>False</td>\n",
       "    </tr>\n",
       "    <tr>\n",
       "      <th>18</th>\n",
       "      <td>United States</td>\n",
       "      <td>0.40105</td>\n",
       "      <td>15</td>\n",
       "      <td>False</td>\n",
       "    </tr>\n",
       "    <tr>\n",
       "      <th>19</th>\n",
       "      <td>Hong Kong</td>\n",
       "      <td>0.39478</td>\n",
       "      <td>72</td>\n",
       "      <td>False</td>\n",
       "    </tr>\n",
       "  </tbody>\n",
       "</table>\n",
       "</div>"
      ],
      "text/plain": [
       "              Country  Generosity Happiness Rank  Nordic\n",
       "0             Myanmar     0.79588            129   False\n",
       "1            Thailand     0.57630             34   False\n",
       "2      United Kingdom     0.51912             21   False\n",
       "3               Malta     0.51752             37   False\n",
       "4           Indonesia     0.51535             74   False\n",
       "5   Somaliland region     0.50318             91   False\n",
       "6              Bhutan     0.47998             79   False\n",
       "7         Netherlands     0.47610              7   False\n",
       "8         New Zealand     0.47501              9   False\n",
       "9               Syria     0.47179            156   False\n",
       "10              Haiti     0.46187            119   False\n",
       "11            Ireland     0.45901             18   False\n",
       "12             Canada     0.45811              5   False\n",
       "13            Iceland     0.43630              2    True\n",
       "14          Australia     0.43562             10   False\n",
       "15               Laos     0.42192             99   False\n",
       "16          Sri Lanka     0.40828            132   False\n",
       "17           Cambodia     0.40359            145   False\n",
       "18      United States     0.40105             15   False\n",
       "19          Hong Kong     0.39478             72   False"
      ]
     },
     "execution_count": 80,
     "metadata": {},
     "output_type": "execute_result"
    }
   ],
   "source": [
    "# List the top 20 countries with highest generosity points\n",
    "generosity_20 = happy_df.sort_values(by='Generosity', ascending=False).reset_index(drop=True)[['Country', 'Generosity', 'Happiness Rank']].head(20)\n",
    "\n",
    "# Find the position of Nordic countries in the list\n",
    "generosity_20['Nordic'] = np.where(generosity_20['Country'].isin(nordic['Country']), True, False)\n",
    "generosity_20"
   ]
  },
  {
   "cell_type": "markdown",
   "id": "1df2b58e",
   "metadata": {},
   "source": [
    "## Trust (Government Corruption) and Happiness"
   ]
  },
  {
   "cell_type": "code",
   "execution_count": 81,
   "id": "7f697775",
   "metadata": {},
   "outputs": [],
   "source": [
    "# List the top 10 countries with highest perceptions of corruption points\n",
    "corrupt_10 = happy_df.sort_values(by='Trust (Government Corruption)', ascending=False)[['Country', 'Trust (Government Corruption)', 'Happiness Rank']].head(10)"
   ]
  },
  {
   "cell_type": "code",
   "execution_count": 82,
   "id": "a1684a96",
   "metadata": {},
   "outputs": [
    {
     "data": {
      "image/png": "[encoded data removed]",
      "text/plain": [
       "<Figure size 576x432 with 1 Axes>"
      ]
     },
     "metadata": {},
     "output_type": "display_data"
    }
   ],
   "source": [
    "plt.figure(figsize = (8, 6)) # Set the figure width and height\n",
    "\n",
    "# Bar chart showing top 10 countries with highest contribution of perceptions of corruption on happiness level\n",
    "ax = sns.barplot(x='Trust (Government Corruption)', y='Country', data=corrupt_10, palette='YlOrBr')\n",
    "\n",
    "# Set the chart style\n",
    "sns.set_style(\"ticks\")\n",
    "sns.despine()\n",
    "\n",
    "# Set the title, the labels, and custom ticks\n",
    "plt.title(\"Top 10 Countries with Highest Contribution of Perceptions of corruption on Happiness Level\", fontsize = 16, pad=10)\n",
    "ax.set_xlabel(\"Trust (Government Corruption) Points\", fontsize=14, labelpad=5)\n",
    "ax.set_ylabel(\"\")\n",
    "ax.tick_params(labelsize=12)\n",
    "\n",
    "# Show the plot\n",
    "plt.show()"
   ]
  },
  {
   "cell_type": "code",
   "execution_count": 84,
   "id": "6bf59e9b",
   "metadata": {},
   "outputs": [
    {
     "data": {
      "text/html": [
       "<div>\n",
       "<style scoped>\n",
       "    .dataframe tbody tr th:only-of-type {\n",
       "        vertical-align: middle;\n",
       "    }\n",
       "\n",
       "    .dataframe tbody tr th {\n",
       "        vertical-align: top;\n",
       "    }\n",
       "\n",
       "    .dataframe thead th {\n",
       "        text-align: right;\n",
       "    }\n",
       "</style>\n",
       "<table border=\"1\" class=\"dataframe\">\n",
       "  <thead>\n",
       "    <tr style=\"text-align: right;\">\n",
       "      <th></th>\n",
       "      <th>Country</th>\n",
       "      <th>Trust (Government Corruption)</th>\n",
       "      <th>Happiness Rank</th>\n",
       "    </tr>\n",
       "  </thead>\n",
       "  <tbody>\n",
       "    <tr>\n",
       "      <th>0</th>\n",
       "      <td>Denmark</td>\n",
       "      <td>0.48357</td>\n",
       "      <td>3</td>\n",
       "    </tr>\n",
       "    <tr>\n",
       "      <th>1</th>\n",
       "      <td>Sweden</td>\n",
       "      <td>0.43844</td>\n",
       "      <td>8</td>\n",
       "    </tr>\n",
       "    <tr>\n",
       "      <th>2</th>\n",
       "      <td>Finland</td>\n",
       "      <td>0.41372</td>\n",
       "      <td>6</td>\n",
       "    </tr>\n",
       "  </tbody>\n",
       "</table>\n",
       "</div>"
      ],
      "text/plain": [
       "   Country  Trust (Government Corruption) Happiness Rank\n",
       "0  Denmark                        0.48357              3\n",
       "1   Sweden                        0.43844              8\n",
       "2  Finland                        0.41372              6"
      ]
     },
     "execution_count": 84,
     "metadata": {},
     "output_type": "execute_result"
    }
   ],
   "source": [
    "# Check the country that also Nordic countries\n",
    "corrupt_10[corrupt_10['Country'].isin(nordic['Country'])].reset_index(drop=True)"
   ]
  },
  {
   "cell_type": "code",
   "execution_count": 85,
   "id": "0b5c8e18",
   "metadata": {},
   "outputs": [],
   "source": [
    "# List the top 20 countries with highest Perceptions of corruption points\n",
    "corrupt_20 = happy_df.sort_values(by='Trust (Government Corruption)', ascending=False).reset_index(drop=True)[['Country', 'Trust (Government Corruption)', 'Happiness Rank']].head(20)\n",
    "# Find the position of Nordic countries in the list\n",
    "corrupt_20['Nordic'] = np.where(corrupt_20['Country'].isin(nordic['Country']), True, False)"
   ]
  },
  {
   "cell_type": "code",
   "execution_count": 91,
   "id": "7dccb695",
   "metadata": {},
   "outputs": [],
   "source": [
    "# The Nordic countries average\n",
    "col = ['Economy (GDP per Capita)',\n",
    "       'Family', \n",
    "       'Health (Life Expectancy)',\n",
    "       'Freedom', \n",
    "       'Generosity',\n",
    "       'Trust (Government Corruption)']\n",
    "nordic_df = pd.DataFrame(nordic[col].mean(axis=0))\n",
    "nordic_df = nordic_df.T    # Transpose the dataframe\n",
    "nordic_df.insert(0, 'Country', 'Nordic Countries (avg)')"
   ]
  },
  {
   "cell_type": "code",
   "execution_count": 92,
   "id": "b6878f38",
   "metadata": {},
   "outputs": [],
   "source": [
    "# The world average\n",
    "world_df = pd.DataFrame(happy_df[col].mean(axis=0))\n",
    "world_df = world_df.T    # Transpose the dataframe\n",
    "world_df.insert(0, 'Country', 'World (avg)')"
   ]
  },
  {
   "cell_type": "code",
   "execution_count": 93,
   "id": "704d5fb4",
   "metadata": {},
   "outputs": [],
   "source": [
    "# The world happiness variables average excluding Nordic countries\n",
    "exclude_nordic = happy_df[~happy_df['Country'].isin(nordic['Country'])].reset_index(drop=True)\n",
    "exclude_nordic = pd.DataFrame(exclude_nordic[col].mean(axis=0))\n",
    "exclude_nordic = exclude_nordic.T    # Transpose the dataframe\n",
    "exclude_nordic.insert(0, 'Country', 'World (Exclude Nordic Countries) (avg)')"
   ]
  },
  {
   "cell_type": "code",
   "execution_count": 94,
   "id": "8d03db1e",
   "metadata": {},
   "outputs": [],
   "source": [
    "# Concate the three dataframe\n",
    "df_avg = pd.concat([nordic_df, world_df, exclude_nordic], ignore_index=True)\n",
    "df_avg = pd.melt(df_avg, id_vars=['Country'], value_vars=col)"
   ]
  },
  {
   "cell_type": "code",
   "execution_count": 95,
   "id": "5d4faa83",
   "metadata": {},
   "outputs": [
    {
     "data": {
      "image/png": "[encoded data removed]",
      "text/plain": [
       "<Figure size 2016x432 with 1 Axes>"
      ]
     },
     "metadata": {},
     "output_type": "display_data"
    }
   ],
   "source": [
    "plt.figure(figsize = (28, 6)) # Set the figure width and height\n",
    "\n",
    "# Bar chart showing overall average Nordic countries and the world\n",
    "ax = sns.barplot(x=\"variable\", y=\"value\", hue=\"Country\", data=df_avg, \n",
    "                 palette='Set1_r',  edgecolor=\"white\", linewidth=2)\n",
    "# Set the chart style\n",
    "sns.set_style(\"ticks\")\n",
    "sns.despine()\n",
    "\n",
    "# Set the title, the labels, the legend, and custom ticks\n",
    "plt.title(\"Nordic Countries vs World Average Points per Variable\", fontsize = 26, pad=15)\n",
    "ax.set_xlabel(\"\")\n",
    "ax.set_ylabel(\"Average Points\", fontsize=20, labelpad=10)\n",
    "ax.tick_params(labelsize=18)\n",
    "ax.legend(fontsize=18)\n",
    "# Show the plot\n",
    "plt.show()"
   ]
  },
  {
   "cell_type": "markdown",
   "id": "0d207c11",
   "metadata": {},
   "source": [
    "The Nordic countries have greater average points in every index variable. After all, they dominated the happiness world ranking and must have greater points than the rest of the country. From this graph, the difference between the average generosity points of Nordics and the world is relatively small, which is (0.05) points. This could be because generosity has the weakest correlation with the happiness score, so this variable does not help much with Nordic countries' happiness. Or, because the generosity in the Nordic countries is indeed low, after all, only Iceland has high points in this variable."
   ]
  },
  {
   "cell_type": "markdown",
   "id": "36190af5",
   "metadata": {},
   "source": [
    "# HAPPINESS LEVEL BY COUNTRY MAP"
   ]
  },
  {
   "cell_type": "code",
   "execution_count": 97,
   "id": "6e79b029",
   "metadata": {},
   "outputs": [
    {
     "name": "stdout",
     "output_type": "stream",
     "text": [
      "Collecting plotly\n",
      "  Downloading plotly-5.7.0-py2.py3-none-any.whl (28.8 MB)\n",
      "     ---------------------------------------- 28.8/28.8 MB 3.9 MB/s eta 0:00:00\n",
      "Collecting tenacity>=6.2.0\n",
      "  Downloading tenacity-8.0.1-py3-none-any.whl (24 kB)\n",
      "Requirement already satisfied: six in c:\\users\\rites\\anaconda3\\lib\\site-packages (from plotly) (1.15.0)\n",
      "Installing collected packages: tenacity, plotly\n",
      "Successfully installed plotly-5.7.0 tenacity-8.0.1\n",
      "Note: you may need to restart the kernel to use updated packages.\n"
     ]
    }
   ],
   "source": [
    "pip install plotly"
   ]
  },
  {
   "cell_type": "code",
   "execution_count": 101,
   "id": "2a31c1a3",
   "metadata": {},
   "outputs": [
    {
     "data": {
      "text/html": [
       "        <script type=\"text/javascript\">\n",
       "        window.PlotlyConfig = {MathJaxConfig: 'local'};\n",
       "        if (window.MathJax) {MathJax.Hub.Config({SVG: {font: \"STIX-Web\"}});}\n",
       "        if (typeof require !== 'undefined') {\n",
       "        require.undef(\"plotly\");\n",
       "        requirejs.config({\n",
       "            paths: {\n",
       "                'plotly': ['https://cdn.plot.ly/plotly-2.11.1.min']\n",
       "            }\n",
       "        });\n",
       "        require(['plotly'], function(Plotly) {\n",
       "            window._Plotly = Plotly;\n",
       "        });\n",
       "        }\n",
       "        </script>\n",
       "        "
      ]
     },
     "metadata": {},
     "output_type": "display_data"
    },
    {
     "data": {
      "application/vnd.plotly.v1+json": {
       "config": {
        "plotlyServerURL": "https://plot.ly"
       },
       "data": [
        {
         "coloraxis": "coloraxis",
         "customdata": [
          [
           "Switzerland",
           "1"
          ],
          [
           "Iceland",
           "2"
          ],
          [
           "Denmark",
           "3"
          ],
          [
           "Norway",
           "4"
          ],
          [
           "Canada",
           "5"
          ],
          [
           "Finland",
           "6"
          ],
          [
           "Netherlands",
           "7"
          ],
          [
           "Sweden",
           "8"
          ],
          [
           "New Zealand",
           "9"
          ],
          [
           "Australia",
           "10"
          ],
          [
           "Israel",
           "11"
          ],
          [
           "Costa Rica",
           "12"
          ],
          [
           "Austria",
           "13"
          ],
          [
           "Mexico",
           "14"
          ],
          [
           "United States",
           "15"
          ],
          [
           "Brazil",
           "16"
          ],
          [
           "Luxembourg",
           "17"
          ],
          [
           "Ireland",
           "18"
          ],
          [
           "Belgium",
           "19"
          ],
          [
           "United Arab Emirates",
           "20"
          ],
          [
           "United Kingdom",
           "21"
          ],
          [
           "Oman",
           "22"
          ],
          [
           "Venezuela",
           "23"
          ],
          [
           "Singapore",
           "24"
          ],
          [
           "Panama",
           "25"
          ],
          [
           "Germany",
           "26"
          ],
          [
           "Chile",
           "27"
          ],
          [
           "Qatar",
           "28"
          ],
          [
           "France",
           "29"
          ],
          [
           "Argentina",
           "30"
          ],
          [
           "Czech Republic",
           "31"
          ],
          [
           "Uruguay",
           "32"
          ],
          [
           "Colombia",
           "33"
          ],
          [
           "Thailand",
           "34"
          ],
          [
           "Saudi Arabia",
           "35"
          ],
          [
           "Spain",
           "36"
          ],
          [
           "Malta",
           "37"
          ],
          [
           "Taiwan",
           "38"
          ],
          [
           "Kuwait",
           "39"
          ],
          [
           "Suriname",
           "40"
          ],
          [
           "Trinidad and Tobago",
           "41"
          ],
          [
           "El Salvador",
           "42"
          ],
          [
           "Guatemala",
           "43"
          ],
          [
           "Uzbekistan",
           "44"
          ],
          [
           "Slovakia",
           "45"
          ],
          [
           "Japan",
           "46"
          ],
          [
           "South Korea",
           "47"
          ],
          [
           "Ecuador",
           "48"
          ],
          [
           "Bahrain",
           "49"
          ],
          [
           "Italy",
           "50"
          ],
          [
           "Bolivia",
           "51"
          ],
          [
           "Moldova",
           "52"
          ],
          [
           "Paraguay",
           "53"
          ],
          [
           "Kazakhstan",
           "54"
          ],
          [
           "Slovenia",
           "55"
          ],
          [
           "Lithuania",
           "56"
          ],
          [
           "Nicaragua",
           "57"
          ],
          [
           "Peru",
           "58"
          ],
          [
           "Belarus",
           "59"
          ],
          [
           "Poland",
           "60"
          ],
          [
           "Malaysia",
           "61"
          ],
          [
           "Croatia",
           "62"
          ],
          [
           "Libya",
           "63"
          ],
          [
           "Russia",
           "64"
          ],
          [
           "Jamaica",
           "65"
          ],
          [
           "North Cyprus",
           "66"
          ],
          [
           "Cyprus",
           "67"
          ],
          [
           "Algeria",
           "68"
          ],
          [
           "Kosovo",
           "69"
          ],
          [
           "Turkmenistan",
           "70"
          ],
          [
           "Mauritius",
           "71"
          ],
          [
           "Hong Kong",
           "72"
          ],
          [
           "Estonia",
           "73"
          ],
          [
           "Indonesia",
           "74"
          ],
          [
           "Vietnam",
           "75"
          ],
          [
           "Turkey",
           "76"
          ],
          [
           "Kyrgyzstan",
           "77"
          ],
          [
           "Nigeria",
           "78"
          ],
          [
           "Bhutan",
           "79"
          ],
          [
           "Azerbaijan",
           "80"
          ],
          [
           "Pakistan",
           "81"
          ],
          [
           "Jordan",
           "82"
          ],
          [
           "Montenegro",
           "82"
          ],
          [
           "China",
           "84"
          ],
          [
           "Zambia",
           "85"
          ],
          [
           "Romania",
           "86"
          ],
          [
           "Serbia",
           "87"
          ],
          [
           "Portugal",
           "88"
          ],
          [
           "Latvia",
           "89"
          ],
          [
           "Philippines",
           "90"
          ],
          [
           "Somaliland region",
           "91"
          ],
          [
           "Morocco",
           "92"
          ],
          [
           "Macedonia",
           "93"
          ],
          [
           "Mozambique",
           "94"
          ],
          [
           "Albania",
           "95"
          ],
          [
           "Bosnia and Herzegovina",
           "96"
          ],
          [
           "Lesotho",
           "97"
          ],
          [
           "Dominican Republic",
           "98"
          ],
          [
           "Laos",
           "99"
          ],
          [
           "Mongolia",
           "100"
          ],
          [
           "Swaziland",
           "101"
          ],
          [
           "Greece",
           "102"
          ],
          [
           "Lebanon",
           "103"
          ],
          [
           "Hungary",
           "104"
          ],
          [
           "Honduras",
           "105"
          ],
          [
           "Tajikistan",
           "106"
          ],
          [
           "Tunisia",
           "107"
          ],
          [
           "Palestinian Territories",
           "108"
          ],
          [
           "Bangladesh",
           "109"
          ],
          [
           "Iran",
           "110"
          ],
          [
           "Ukraine",
           "111"
          ],
          [
           "Iraq",
           "112"
          ],
          [
           "South Africa",
           "113"
          ],
          [
           "Ghana",
           "114"
          ],
          [
           "Zimbabwe",
           "115"
          ],
          [
           "Liberia",
           "116"
          ],
          [
           "India",
           "117"
          ],
          [
           "Sudan",
           "118"
          ],
          [
           "Haiti",
           "119"
          ],
          [
           "Congo (Kinshasa)",
           "120"
          ],
          [
           "Nepal",
           "121"
          ],
          [
           "Ethiopia",
           "122"
          ],
          [
           "Sierra Leone",
           "123"
          ],
          [
           "Mauritania",
           "124"
          ],
          [
           "Kenya",
           "125"
          ],
          [
           "Djibouti",
           "126"
          ],
          [
           "Armenia",
           "127"
          ],
          [
           "Botswana",
           "128"
          ],
          [
           "Myanmar",
           "129"
          ],
          [
           "Georgia",
           "130"
          ],
          [
           "Malawi",
           "131"
          ],
          [
           "Sri Lanka",
           "132"
          ],
          [
           "Cameroon",
           "133"
          ],
          [
           "Bulgaria",
           "134"
          ],
          [
           "Egypt",
           "135"
          ],
          [
           "Yemen",
           "136"
          ],
          [
           "Angola",
           "137"
          ],
          [
           "Mali",
           "138"
          ],
          [
           "Congo (Brazzaville)",
           "139"
          ],
          [
           "Comoros",
           "140"
          ],
          [
           "Uganda",
           "141"
          ],
          [
           "Senegal",
           "142"
          ],
          [
           "Gabon",
           "143"
          ],
          [
           "Niger",
           "144"
          ],
          [
           "Cambodia",
           "145"
          ],
          [
           "Tanzania",
           "146"
          ],
          [
           "Madagascar",
           "147"
          ],
          [
           "Central African Republic",
           "148"
          ],
          [
           "Chad",
           "149"
          ],
          [
           "Guinea",
           "150"
          ],
          [
           "Ivory Coast",
           "151"
          ],
          [
           "Burkina Faso",
           "152"
          ],
          [
           "Afghanistan",
           "153"
          ],
          [
           "Rwanda",
           "154"
          ],
          [
           "Benin",
           "155"
          ],
          [
           "Syria",
           "156"
          ],
          [
           "Burundi",
           "157"
          ],
          [
           "Togo",
           "158"
          ]
         ],
         "geo": "geo",
         "hovertemplate": "<b>%{hovertext}</b><br><br>Happiness Rank=%{customdata[1]}<br>Happiness Score=%{z}<extra></extra>",
         "hovertext": [
          "Switzerland",
          "Iceland",
          "Denmark",
          "Norway",
          "Canada",
          "Finland",
          "Netherlands",
          "Sweden",
          "New Zealand",
          "Australia",
          "Israel",
          "Costa Rica",
          "Austria",
          "Mexico",
          "United States",
          "Brazil",
          "Luxembourg",
          "Ireland",
          "Belgium",
          "United Arab Emirates",
          "United Kingdom",
          "Oman",
          "Venezuela",
          "Singapore",
          "Panama",
          "Germany",
          "Chile",
          "Qatar",
          "France",
          "Argentina",
          "Czech Republic",
          "Uruguay",
          "Colombia",
          "Thailand",
          "Saudi Arabia",
          "Spain",
          "Malta",
          "Taiwan",
          "Kuwait",
          "Suriname",
          "Trinidad and Tobago",
          "El Salvador",
          "Guatemala",
          "Uzbekistan",
          "Slovakia",
          "Japan",
          "South Korea",
          "Ecuador",
          "Bahrain",
          "Italy",
          "Bolivia",
          "Moldova",
          "Paraguay",
          "Kazakhstan",
          "Slovenia",
          "Lithuania",
          "Nicaragua",
          "Peru",
          "Belarus",
          "Poland",
          "Malaysia",
          "Croatia",
          "Libya",
          "Russia",
          "Jamaica",
          "North Cyprus",
          "Cyprus",
          "Algeria",
          "Kosovo",
          "Turkmenistan",
          "Mauritius",
          "Hong Kong",
          "Estonia",
          "Indonesia",
          "Vietnam",
          "Turkey",
          "Kyrgyzstan",
          "Nigeria",
          "Bhutan",
          "Azerbaijan",
          "Pakistan",
          "Jordan",
          "Montenegro",
          "China",
          "Zambia",
          "Romania",
          "Serbia",
          "Portugal",
          "Latvia",
          "Philippines",
          "Somaliland region",
          "Morocco",
          "Macedonia",
          "Mozambique",
          "Albania",
          "Bosnia and Herzegovina",
          "Lesotho",
          "Dominican Republic",
          "Laos",
          "Mongolia",
          "Swaziland",
          "Greece",
          "Lebanon",
          "Hungary",
          "Honduras",
          "Tajikistan",
          "Tunisia",
          "Palestinian Territories",
          "Bangladesh",
          "Iran",
          "Ukraine",
          "Iraq",
          "South Africa",
          "Ghana",
          "Zimbabwe",
          "Liberia",
          "India",
          "Sudan",
          "Haiti",
          "Congo (Kinshasa)",
          "Nepal",
          "Ethiopia",
          "Sierra Leone",
          "Mauritania",
          "Kenya",
          "Djibouti",
          "Armenia",
          "Botswana",
          "Myanmar",
          "Georgia",
          "Malawi",
          "Sri Lanka",
          "Cameroon",
          "Bulgaria",
          "Egypt",
          "Yemen",
          "Angola",
          "Mali",
          "Congo (Brazzaville)",
          "Comoros",
          "Uganda",
          "Senegal",
          "Gabon",
          "Niger",
          "Cambodia",
          "Tanzania",
          "Madagascar",
          "Central African Republic",
          "Chad",
          "Guinea",
          "Ivory Coast",
          "Burkina Faso",
          "Afghanistan",
          "Rwanda",
          "Benin",
          "Syria",
          "Burundi",
          "Togo"
         ],
         "locationmode": "country names",
         "locations": [
          "Switzerland",
          "Iceland",
          "Denmark",
          "Norway",
          "Canada",
          "Finland",
          "Netherlands",
          "Sweden",
          "New Zealand",
          "Australia",
          "Israel",
          "Costa Rica",
          "Austria",
          "Mexico",
          "United States",
          "Brazil",
          "Luxembourg",
          "Ireland",
          "Belgium",
          "United Arab Emirates",
          "United Kingdom",
          "Oman",
          "Venezuela",
          "Singapore",
          "Panama",
          "Germany",
          "Chile",
          "Qatar",
          "France",
          "Argentina",
          "Czech Republic",
          "Uruguay",
          "Colombia",
          "Thailand",
          "Saudi Arabia",
          "Spain",
          "Malta",
          "Taiwan",
          "Kuwait",
          "Suriname",
          "Trinidad and Tobago",
          "El Salvador",
          "Guatemala",
          "Uzbekistan",
          "Slovakia",
          "Japan",
          "South Korea",
          "Ecuador",
          "Bahrain",
          "Italy",
          "Bolivia",
          "Moldova",
          "Paraguay",
          "Kazakhstan",
          "Slovenia",
          "Lithuania",
          "Nicaragua",
          "Peru",
          "Belarus",
          "Poland",
          "Malaysia",
          "Croatia",
          "Libya",
          "Russia",
          "Jamaica",
          "North Cyprus",
          "Cyprus",
          "Algeria",
          "Kosovo",
          "Turkmenistan",
          "Mauritius",
          "Hong Kong",
          "Estonia",
          "Indonesia",
          "Vietnam",
          "Turkey",
          "Kyrgyzstan",
          "Nigeria",
          "Bhutan",
          "Azerbaijan",
          "Pakistan",
          "Jordan",
          "Montenegro",
          "China",
          "Zambia",
          "Romania",
          "Serbia",
          "Portugal",
          "Latvia",
          "Philippines",
          "Somaliland region",
          "Morocco",
          "Macedonia",
          "Mozambique",
          "Albania",
          "Bosnia and Herzegovina",
          "Lesotho",
          "Dominican Republic",
          "Laos",
          "Mongolia",
          "Swaziland",
          "Greece",
          "Lebanon",
          "Hungary",
          "Honduras",
          "Tajikistan",
          "Tunisia",
          "Palestinian Territories",
          "Bangladesh",
          "Iran",
          "Ukraine",
          "Iraq",
          "South Africa",
          "Ghana",
          "Zimbabwe",
          "Liberia",
          "India",
          "Sudan",
          "Haiti",
          "Congo (Kinshasa)",
          "Nepal",
          "Ethiopia",
          "Sierra Leone",
          "Mauritania",
          "Kenya",
          "Djibouti",
          "Armenia",
          "Botswana",
          "Myanmar",
          "Georgia",
          "Malawi",
          "Sri Lanka",
          "Cameroon",
          "Bulgaria",
          "Egypt",
          "Yemen",
          "Angola",
          "Mali",
          "Congo (Brazzaville)",
          "Comoros",
          "Uganda",
          "Senegal",
          "Gabon",
          "Niger",
          "Cambodia",
          "Tanzania",
          "Madagascar",
          "Central African Republic",
          "Chad",
          "Guinea",
          "Ivory Coast",
          "Burkina Faso",
          "Afghanistan",
          "Rwanda",
          "Benin",
          "Syria",
          "Burundi",
          "Togo"
         ],
         "name": "",
         "type": "choropleth",
         "z": [
          7.587,
          7.561,
          7.527,
          7.522,
          7.427,
          7.406,
          7.378,
          7.364,
          7.286,
          7.284,
          7.278,
          7.226,
          7.2,
          7.187,
          7.119,
          6.983,
          6.946,
          6.94,
          6.937,
          6.901,
          6.867,
          6.853,
          6.81,
          6.798,
          6.786,
          6.75,
          6.67,
          6.611,
          6.575,
          6.574,
          6.505,
          6.485,
          6.477,
          6.455,
          6.411,
          6.329,
          6.302,
          6.298,
          6.295,
          6.269,
          6.168,
          6.13,
          6.123,
          6.003,
          5.995,
          5.987,
          5.984,
          5.975,
          5.96,
          5.948,
          5.89,
          5.889,
          5.878,
          5.855,
          5.848,
          5.833,
          5.828,
          5.824,
          5.813,
          5.791,
          5.77,
          5.759,
          5.754,
          5.716,
          5.709,
          5.695,
          5.689,
          5.605,
          5.589,
          5.548,
          5.477,
          5.474,
          5.429,
          5.399,
          5.36,
          5.332,
          5.286,
          5.268,
          5.253,
          5.212,
          5.194,
          5.192,
          5.192,
          5.14,
          5.129,
          5.124,
          5.123,
          5.102,
          5.098,
          5.073,
          5.057,
          5.013,
          5.007,
          4.971,
          4.959,
          4.949,
          4.898,
          4.885,
          4.876,
          4.874,
          4.867,
          4.857,
          4.839,
          4.8,
          4.788,
          4.786,
          4.739,
          4.715,
          4.694,
          4.686,
          4.681,
          4.677,
          4.642,
          4.633,
          4.61,
          4.571,
          4.565,
          4.55,
          4.518,
          4.517,
          4.514,
          4.512,
          4.507,
          4.436,
          4.419,
          4.369,
          4.35,
          4.332,
          4.307,
          4.297,
          4.292,
          4.271,
          4.252,
          4.218,
          4.194,
          4.077,
          4.033,
          3.995,
          3.989,
          3.956,
          3.931,
          3.904,
          3.896,
          3.845,
          3.819,
          3.781,
          3.681,
          3.678,
          3.667,
          3.656,
          3.655,
          3.587,
          3.575,
          3.465,
          3.34,
          3.006,
          2.905,
          2.839
         ]
        }
       ],
       "layout": {
        "coloraxis": {
         "colorbar": {
          "title": {
           "text": "Happiness Score"
          }
         },
         "colorscale": [
          [
           0,
           "#0d0887"
          ],
          [
           0.1111111111111111,
           "#46039f"
          ],
          [
           0.2222222222222222,
           "#7201a8"
          ],
          [
           0.3333333333333333,
           "#9c179e"
          ],
          [
           0.4444444444444444,
           "#bd3786"
          ],
          [
           0.5555555555555556,
           "#d8576b"
          ],
          [
           0.6666666666666666,
           "#ed7953"
          ],
          [
           0.7777777777777778,
           "#fb9f3a"
          ],
          [
           0.8888888888888888,
           "#fdca26"
          ],
          [
           1,
           "#f0f921"
          ]
         ]
        },
        "geo": {
         "center": {},
         "domain": {
          "x": [
           0,
           1
          ],
          "y": [
           0,
           1
          ]
         }
        },
        "height": 400,
        "legend": {
         "tracegroupgap": 0
        },
        "margin": {
         "b": 0,
         "l": 0,
         "r": 0,
         "t": 0
        },
        "template": {
         "data": {
          "bar": [
           {
            "error_x": {
             "color": "#2a3f5f"
            },
            "error_y": {
             "color": "#2a3f5f"
            },
            "marker": {
             "line": {
              "color": "#E5ECF6",
              "width": 0.5
             },
             "pattern": {
              "fillmode": "overlay",
              "size": 10,
              "solidity": 0.2
             }
            },
            "type": "bar"
           }
          ],
          "barpolar": [
           {
            "marker": {
             "line": {
              "color": "#E5ECF6",
              "width": 0.5
             },
             "pattern": {
              "fillmode": "overlay",
              "size": 10,
              "solidity": 0.2
             }
            },
            "type": "barpolar"
           }
          ],
          "carpet": [
           {
            "aaxis": {
             "endlinecolor": "#2a3f5f",
             "gridcolor": "white",
             "linecolor": "white",
             "minorgridcolor": "white",
             "startlinecolor": "#2a3f5f"
            },
            "baxis": {
             "endlinecolor": "#2a3f5f",
             "gridcolor": "white",
             "linecolor": "white",
             "minorgridcolor": "white",
             "startlinecolor": "#2a3f5f"
            },
            "type": "carpet"
           }
          ],
          "choropleth": [
           {
            "colorbar": {
             "outlinewidth": 0,
             "ticks": ""
            },
            "type": "choropleth"
           }
          ],
          "contour": [
           {
            "colorbar": {
             "outlinewidth": 0,
             "ticks": ""
            },
            "colorscale": [
             [
              0,
              "#0d0887"
             ],
             [
              0.1111111111111111,
              "#46039f"
             ],
             [
              0.2222222222222222,
              "#7201a8"
             ],
             [
              0.3333333333333333,
              "#9c179e"
             ],
             [
              0.4444444444444444,
              "#bd3786"
             ],
             [
              0.5555555555555556,
              "#d8576b"
             ],
             [
              0.6666666666666666,
              "#ed7953"
             ],
             [
              0.7777777777777778,
              "#fb9f3a"
             ],
             [
              0.8888888888888888,
              "#fdca26"
             ],
             [
              1,
              "#f0f921"
             ]
            ],
            "type": "contour"
           }
          ],
          "contourcarpet": [
           {
            "colorbar": {
             "outlinewidth": 0,
             "ticks": ""
            },
            "type": "contourcarpet"
           }
          ],
          "heatmap": [
           {
            "colorbar": {
             "outlinewidth": 0,
             "ticks": ""
            },
            "colorscale": [
             [
              0,
              "#0d0887"
             ],
             [
              0.1111111111111111,
              "#46039f"
             ],
             [
              0.2222222222222222,
              "#7201a8"
             ],
             [
              0.3333333333333333,
              "#9c179e"
             ],
             [
              0.4444444444444444,
              "#bd3786"
             ],
             [
              0.5555555555555556,
              "#d8576b"
             ],
             [
              0.6666666666666666,
              "#ed7953"
             ],
             [
              0.7777777777777778,
              "#fb9f3a"
             ],
             [
              0.8888888888888888,
              "#fdca26"
             ],
             [
              1,
              "#f0f921"
             ]
            ],
            "type": "heatmap"
           }
          ],
          "heatmapgl": [
           {
            "colorbar": {
             "outlinewidth": 0,
             "ticks": ""
            },
            "colorscale": [
             [
              0,
              "#0d0887"
             ],
             [
              0.1111111111111111,
              "#46039f"
             ],
             [
              0.2222222222222222,
              "#7201a8"
             ],
             [
              0.3333333333333333,
              "#9c179e"
             ],
             [
              0.4444444444444444,
              "#bd3786"
             ],
             [
              0.5555555555555556,
              "#d8576b"
             ],
             [
              0.6666666666666666,
              "#ed7953"
             ],
             [
              0.7777777777777778,
              "#fb9f3a"
             ],
             [
              0.8888888888888888,
              "#fdca26"
             ],
             [
              1,
              "#f0f921"
             ]
            ],
            "type": "heatmapgl"
           }
          ],
          "histogram": [
           {
            "marker": {
             "pattern": {
              "fillmode": "overlay",
              "size": 10,
              "solidity": 0.2
             }
            },
            "type": "histogram"
           }
          ],
          "histogram2d": [
           {
            "colorbar": {
             "outlinewidth": 0,
             "ticks": ""
            },
            "colorscale": [
             [
              0,
              "#0d0887"
             ],
             [
              0.1111111111111111,
              "#46039f"
             ],
             [
              0.2222222222222222,
              "#7201a8"
             ],
             [
              0.3333333333333333,
              "#9c179e"
             ],
             [
              0.4444444444444444,
              "#bd3786"
             ],
             [
              0.5555555555555556,
              "#d8576b"
             ],
             [
              0.6666666666666666,
              "#ed7953"
             ],
             [
              0.7777777777777778,
              "#fb9f3a"
             ],
             [
              0.8888888888888888,
              "#fdca26"
             ],
             [
              1,
              "#f0f921"
             ]
            ],
            "type": "histogram2d"
           }
          ],
          "histogram2dcontour": [
           {
            "colorbar": {
             "outlinewidth": 0,
             "ticks": ""
            },
            "colorscale": [
             [
              0,
              "#0d0887"
             ],
             [
              0.1111111111111111,
              "#46039f"
             ],
             [
              0.2222222222222222,
              "#7201a8"
             ],
             [
              0.3333333333333333,
              "#9c179e"
             ],
             [
              0.4444444444444444,
              "#bd3786"
             ],
             [
              0.5555555555555556,
              "#d8576b"
             ],
             [
              0.6666666666666666,
              "#ed7953"
             ],
             [
              0.7777777777777778,
              "#fb9f3a"
             ],
             [
              0.8888888888888888,
              "#fdca26"
             ],
             [
              1,
              "#f0f921"
             ]
            ],
            "type": "histogram2dcontour"
           }
          ],
          "mesh3d": [
           {
            "colorbar": {
             "outlinewidth": 0,
             "ticks": ""
            },
            "type": "mesh3d"
           }
          ],
          "parcoords": [
           {
            "line": {
             "colorbar": {
              "outlinewidth": 0,
              "ticks": ""
             }
            },
            "type": "parcoords"
           }
          ],
          "pie": [
           {
            "automargin": true,
            "type": "pie"
           }
          ],
          "scatter": [
           {
            "fillpattern": {
             "fillmode": "overlay",
             "size": 10,
             "solidity": 0.2
            },
            "type": "scatter"
           }
          ],
          "scatter3d": [
           {
            "line": {
             "colorbar": {
              "outlinewidth": 0,
              "ticks": ""
             }
            },
            "marker": {
             "colorbar": {
              "outlinewidth": 0,
              "ticks": ""
             }
            },
            "type": "scatter3d"
           }
          ],
          "scattercarpet": [
           {
            "marker": {
             "colorbar": {
              "outlinewidth": 0,
              "ticks": ""
             }
            },
            "type": "scattercarpet"
           }
          ],
          "scattergeo": [
           {
            "marker": {
             "colorbar": {
              "outlinewidth": 0,
              "ticks": ""
             }
            },
            "type": "scattergeo"
           }
          ],
          "scattergl": [
           {
            "marker": {
             "colorbar": {
              "outlinewidth": 0,
              "ticks": ""
             }
            },
            "type": "scattergl"
           }
          ],
          "scattermapbox": [
           {
            "marker": {
             "colorbar": {
              "outlinewidth": 0,
              "ticks": ""
             }
            },
            "type": "scattermapbox"
           }
          ],
          "scatterpolar": [
           {
            "marker": {
             "colorbar": {
              "outlinewidth": 0,
              "ticks": ""
             }
            },
            "type": "scatterpolar"
           }
          ],
          "scatterpolargl": [
           {
            "marker": {
             "colorbar": {
              "outlinewidth": 0,
              "ticks": ""
             }
            },
            "type": "scatterpolargl"
           }
          ],
          "scatterternary": [
           {
            "marker": {
             "colorbar": {
              "outlinewidth": 0,
              "ticks": ""
             }
            },
            "type": "scatterternary"
           }
          ],
          "surface": [
           {
            "colorbar": {
             "outlinewidth": 0,
             "ticks": ""
            },
            "colorscale": [
             [
              0,
              "#0d0887"
             ],
             [
              0.1111111111111111,
              "#46039f"
             ],
             [
              0.2222222222222222,
              "#7201a8"
             ],
             [
              0.3333333333333333,
              "#9c179e"
             ],
             [
              0.4444444444444444,
              "#bd3786"
             ],
             [
              0.5555555555555556,
              "#d8576b"
             ],
             [
              0.6666666666666666,
              "#ed7953"
             ],
             [
              0.7777777777777778,
              "#fb9f3a"
             ],
             [
              0.8888888888888888,
              "#fdca26"
             ],
             [
              1,
              "#f0f921"
             ]
            ],
            "type": "surface"
           }
          ],
          "table": [
           {
            "cells": {
             "fill": {
              "color": "#EBF0F8"
             },
             "line": {
              "color": "white"
             }
            },
            "header": {
             "fill": {
              "color": "#C8D4E3"
             },
             "line": {
              "color": "white"
             }
            },
            "type": "table"
           }
          ]
         },
         "layout": {
          "annotationdefaults": {
           "arrowcolor": "#2a3f5f",
           "arrowhead": 0,
           "arrowwidth": 1
          },
          "autotypenumbers": "strict",
          "coloraxis": {
           "colorbar": {
            "outlinewidth": 0,
            "ticks": ""
           }
          },
          "colorscale": {
           "diverging": [
            [
             0,
             "#8e0152"
            ],
            [
             0.1,
             "#c51b7d"
            ],
            [
             0.2,
             "#de77ae"
            ],
            [
             0.3,
             "#f1b6da"
            ],
            [
             0.4,
             "#fde0ef"
            ],
            [
             0.5,
             "#f7f7f7"
            ],
            [
             0.6,
             "#e6f5d0"
            ],
            [
             0.7,
             "#b8e186"
            ],
            [
             0.8,
             "#7fbc41"
            ],
            [
             0.9,
             "#4d9221"
            ],
            [
             1,
             "#276419"
            ]
           ],
           "sequential": [
            [
             0,
             "#0d0887"
            ],
            [
             0.1111111111111111,
             "#46039f"
            ],
            [
             0.2222222222222222,
             "#7201a8"
            ],
            [
             0.3333333333333333,
             "#9c179e"
            ],
            [
             0.4444444444444444,
             "#bd3786"
            ],
            [
             0.5555555555555556,
             "#d8576b"
            ],
            [
             0.6666666666666666,
             "#ed7953"
            ],
            [
             0.7777777777777778,
             "#fb9f3a"
            ],
            [
             0.8888888888888888,
             "#fdca26"
            ],
            [
             1,
             "#f0f921"
            ]
           ],
           "sequentialminus": [
            [
             0,
             "#0d0887"
            ],
            [
             0.1111111111111111,
             "#46039f"
            ],
            [
             0.2222222222222222,
             "#7201a8"
            ],
            [
             0.3333333333333333,
             "#9c179e"
            ],
            [
             0.4444444444444444,
             "#bd3786"
            ],
            [
             0.5555555555555556,
             "#d8576b"
            ],
            [
             0.6666666666666666,
             "#ed7953"
            ],
            [
             0.7777777777777778,
             "#fb9f3a"
            ],
            [
             0.8888888888888888,
             "#fdca26"
            ],
            [
             1,
             "#f0f921"
            ]
           ]
          },
          "colorway": [
           "#636efa",
           "#EF553B",
           "#00cc96",
           "#ab63fa",
           "#FFA15A",
           "#19d3f3",
           "#FF6692",
           "#B6E880",
           "#FF97FF",
           "#FECB52"
          ],
          "font": {
           "color": "#2a3f5f"
          },
          "geo": {
           "bgcolor": "white",
           "lakecolor": "white",
           "landcolor": "#E5ECF6",
           "showlakes": true,
           "showland": true,
           "subunitcolor": "white"
          },
          "hoverlabel": {
           "align": "left"
          },
          "hovermode": "closest",
          "mapbox": {
           "style": "light"
          },
          "paper_bgcolor": "white",
          "plot_bgcolor": "#E5ECF6",
          "polar": {
           "angularaxis": {
            "gridcolor": "white",
            "linecolor": "white",
            "ticks": ""
           },
           "bgcolor": "#E5ECF6",
           "radialaxis": {
            "gridcolor": "white",
            "linecolor": "white",
            "ticks": ""
           }
          },
          "scene": {
           "xaxis": {
            "backgroundcolor": "#E5ECF6",
            "gridcolor": "white",
            "gridwidth": 2,
            "linecolor": "white",
            "showbackground": true,
            "ticks": "",
            "zerolinecolor": "white"
           },
           "yaxis": {
            "backgroundcolor": "#E5ECF6",
            "gridcolor": "white",
            "gridwidth": 2,
            "linecolor": "white",
            "showbackground": true,
            "ticks": "",
            "zerolinecolor": "white"
           },
           "zaxis": {
            "backgroundcolor": "#E5ECF6",
            "gridcolor": "white",
            "gridwidth": 2,
            "linecolor": "white",
            "showbackground": true,
            "ticks": "",
            "zerolinecolor": "white"
           }
          },
          "shapedefaults": {
           "line": {
            "color": "#2a3f5f"
           }
          },
          "ternary": {
           "aaxis": {
            "gridcolor": "white",
            "linecolor": "white",
            "ticks": ""
           },
           "baxis": {
            "gridcolor": "white",
            "linecolor": "white",
            "ticks": ""
           },
           "bgcolor": "#E5ECF6",
           "caxis": {
            "gridcolor": "white",
            "linecolor": "white",
            "ticks": ""
           }
          },
          "title": {
           "x": 0.05
          },
          "xaxis": {
           "automargin": true,
           "gridcolor": "white",
           "linecolor": "white",
           "ticks": "",
           "title": {
            "standoff": 15
           },
           "zerolinecolor": "white",
           "zerolinewidth": 2
          },
          "yaxis": {
           "automargin": true,
           "gridcolor": "white",
           "linecolor": "white",
           "ticks": "",
           "title": {
            "standoff": 15
           },
           "zerolinecolor": "white",
           "zerolinewidth": 2
          }
         }
        },
        "width": 900
       }
      },
      "text/html": [
       "<div>                            <div id=\"0bdac248-2986-4eba-a854-7205f54873ce\" class=\"plotly-graph-div\" style=\"height:400px; width:900px;\"></div>            <script type=\"text/javascript\">                require([\"plotly\"], function(Plotly) {                    window.PLOTLYENV=window.PLOTLYENV || {};                                    if (document.getElementById(\"0bdac248-2986-4eba-a854-7205f54873ce\")) {                    Plotly.newPlot(                        \"0bdac248-2986-4eba-a854-7205f54873ce\",                        [{\"coloraxis\":\"coloraxis\",\"customdata\":[[\"Switzerland\",\"1\"],[\"Iceland\",\"2\"],[\"Denmark\",\"3\"],[\"Norway\",\"4\"],[\"Canada\",\"5\"],[\"Finland\",\"6\"],[\"Netherlands\",\"7\"],[\"Sweden\",\"8\"],[\"New Zealand\",\"9\"],[\"Australia\",\"10\"],[\"Israel\",\"11\"],[\"Costa Rica\",\"12\"],[\"Austria\",\"13\"],[\"Mexico\",\"14\"],[\"United States\",\"15\"],[\"Brazil\",\"16\"],[\"Luxembourg\",\"17\"],[\"Ireland\",\"18\"],[\"Belgium\",\"19\"],[\"United Arab Emirates\",\"20\"],[\"United Kingdom\",\"21\"],[\"Oman\",\"22\"],[\"Venezuela\",\"23\"],[\"Singapore\",\"24\"],[\"Panama\",\"25\"],[\"Germany\",\"26\"],[\"Chile\",\"27\"],[\"Qatar\",\"28\"],[\"France\",\"29\"],[\"Argentina\",\"30\"],[\"Czech Republic\",\"31\"],[\"Uruguay\",\"32\"],[\"Colombia\",\"33\"],[\"Thailand\",\"34\"],[\"Saudi Arabia\",\"35\"],[\"Spain\",\"36\"],[\"Malta\",\"37\"],[\"Taiwan\",\"38\"],[\"Kuwait\",\"39\"],[\"Suriname\",\"40\"],[\"Trinidad and Tobago\",\"41\"],[\"El Salvador\",\"42\"],[\"Guatemala\",\"43\"],[\"Uzbekistan\",\"44\"],[\"Slovakia\",\"45\"],[\"Japan\",\"46\"],[\"South Korea\",\"47\"],[\"Ecuador\",\"48\"],[\"Bahrain\",\"49\"],[\"Italy\",\"50\"],[\"Bolivia\",\"51\"],[\"Moldova\",\"52\"],[\"Paraguay\",\"53\"],[\"Kazakhstan\",\"54\"],[\"Slovenia\",\"55\"],[\"Lithuania\",\"56\"],[\"Nicaragua\",\"57\"],[\"Peru\",\"58\"],[\"Belarus\",\"59\"],[\"Poland\",\"60\"],[\"Malaysia\",\"61\"],[\"Croatia\",\"62\"],[\"Libya\",\"63\"],[\"Russia\",\"64\"],[\"Jamaica\",\"65\"],[\"North Cyprus\",\"66\"],[\"Cyprus\",\"67\"],[\"Algeria\",\"68\"],[\"Kosovo\",\"69\"],[\"Turkmenistan\",\"70\"],[\"Mauritius\",\"71\"],[\"Hong Kong\",\"72\"],[\"Estonia\",\"73\"],[\"Indonesia\",\"74\"],[\"Vietnam\",\"75\"],[\"Turkey\",\"76\"],[\"Kyrgyzstan\",\"77\"],[\"Nigeria\",\"78\"],[\"Bhutan\",\"79\"],[\"Azerbaijan\",\"80\"],[\"Pakistan\",\"81\"],[\"Jordan\",\"82\"],[\"Montenegro\",\"82\"],[\"China\",\"84\"],[\"Zambia\",\"85\"],[\"Romania\",\"86\"],[\"Serbia\",\"87\"],[\"Portugal\",\"88\"],[\"Latvia\",\"89\"],[\"Philippines\",\"90\"],[\"Somaliland region\",\"91\"],[\"Morocco\",\"92\"],[\"Macedonia\",\"93\"],[\"Mozambique\",\"94\"],[\"Albania\",\"95\"],[\"Bosnia and Herzegovina\",\"96\"],[\"Lesotho\",\"97\"],[\"Dominican Republic\",\"98\"],[\"Laos\",\"99\"],[\"Mongolia\",\"100\"],[\"Swaziland\",\"101\"],[\"Greece\",\"102\"],[\"Lebanon\",\"103\"],[\"Hungary\",\"104\"],[\"Honduras\",\"105\"],[\"Tajikistan\",\"106\"],[\"Tunisia\",\"107\"],[\"Palestinian Territories\",\"108\"],[\"Bangladesh\",\"109\"],[\"Iran\",\"110\"],[\"Ukraine\",\"111\"],[\"Iraq\",\"112\"],[\"South Africa\",\"113\"],[\"Ghana\",\"114\"],[\"Zimbabwe\",\"115\"],[\"Liberia\",\"116\"],[\"India\",\"117\"],[\"Sudan\",\"118\"],[\"Haiti\",\"119\"],[\"Congo (Kinshasa)\",\"120\"],[\"Nepal\",\"121\"],[\"Ethiopia\",\"122\"],[\"Sierra Leone\",\"123\"],[\"Mauritania\",\"124\"],[\"Kenya\",\"125\"],[\"Djibouti\",\"126\"],[\"Armenia\",\"127\"],[\"Botswana\",\"128\"],[\"Myanmar\",\"129\"],[\"Georgia\",\"130\"],[\"Malawi\",\"131\"],[\"Sri Lanka\",\"132\"],[\"Cameroon\",\"133\"],[\"Bulgaria\",\"134\"],[\"Egypt\",\"135\"],[\"Yemen\",\"136\"],[\"Angola\",\"137\"],[\"Mali\",\"138\"],[\"Congo (Brazzaville)\",\"139\"],[\"Comoros\",\"140\"],[\"Uganda\",\"141\"],[\"Senegal\",\"142\"],[\"Gabon\",\"143\"],[\"Niger\",\"144\"],[\"Cambodia\",\"145\"],[\"Tanzania\",\"146\"],[\"Madagascar\",\"147\"],[\"Central African Republic\",\"148\"],[\"Chad\",\"149\"],[\"Guinea\",\"150\"],[\"Ivory Coast\",\"151\"],[\"Burkina Faso\",\"152\"],[\"Afghanistan\",\"153\"],[\"Rwanda\",\"154\"],[\"Benin\",\"155\"],[\"Syria\",\"156\"],[\"Burundi\",\"157\"],[\"Togo\",\"158\"]],\"geo\":\"geo\",\"hovertemplate\":\"<b>%{hovertext}</b><br><br>Happiness Rank=%{customdata[1]}<br>Happiness Score=%{z}<extra></extra>\",\"hovertext\":[\"Switzerland\",\"Iceland\",\"Denmark\",\"Norway\",\"Canada\",\"Finland\",\"Netherlands\",\"Sweden\",\"New Zealand\",\"Australia\",\"Israel\",\"Costa Rica\",\"Austria\",\"Mexico\",\"United States\",\"Brazil\",\"Luxembourg\",\"Ireland\",\"Belgium\",\"United Arab Emirates\",\"United Kingdom\",\"Oman\",\"Venezuela\",\"Singapore\",\"Panama\",\"Germany\",\"Chile\",\"Qatar\",\"France\",\"Argentina\",\"Czech Republic\",\"Uruguay\",\"Colombia\",\"Thailand\",\"Saudi Arabia\",\"Spain\",\"Malta\",\"Taiwan\",\"Kuwait\",\"Suriname\",\"Trinidad and Tobago\",\"El Salvador\",\"Guatemala\",\"Uzbekistan\",\"Slovakia\",\"Japan\",\"South Korea\",\"Ecuador\",\"Bahrain\",\"Italy\",\"Bolivia\",\"Moldova\",\"Paraguay\",\"Kazakhstan\",\"Slovenia\",\"Lithuania\",\"Nicaragua\",\"Peru\",\"Belarus\",\"Poland\",\"Malaysia\",\"Croatia\",\"Libya\",\"Russia\",\"Jamaica\",\"North Cyprus\",\"Cyprus\",\"Algeria\",\"Kosovo\",\"Turkmenistan\",\"Mauritius\",\"Hong Kong\",\"Estonia\",\"Indonesia\",\"Vietnam\",\"Turkey\",\"Kyrgyzstan\",\"Nigeria\",\"Bhutan\",\"Azerbaijan\",\"Pakistan\",\"Jordan\",\"Montenegro\",\"China\",\"Zambia\",\"Romania\",\"Serbia\",\"Portugal\",\"Latvia\",\"Philippines\",\"Somaliland region\",\"Morocco\",\"Macedonia\",\"Mozambique\",\"Albania\",\"Bosnia and Herzegovina\",\"Lesotho\",\"Dominican Republic\",\"Laos\",\"Mongolia\",\"Swaziland\",\"Greece\",\"Lebanon\",\"Hungary\",\"Honduras\",\"Tajikistan\",\"Tunisia\",\"Palestinian Territories\",\"Bangladesh\",\"Iran\",\"Ukraine\",\"Iraq\",\"South Africa\",\"Ghana\",\"Zimbabwe\",\"Liberia\",\"India\",\"Sudan\",\"Haiti\",\"Congo (Kinshasa)\",\"Nepal\",\"Ethiopia\",\"Sierra Leone\",\"Mauritania\",\"Kenya\",\"Djibouti\",\"Armenia\",\"Botswana\",\"Myanmar\",\"Georgia\",\"Malawi\",\"Sri Lanka\",\"Cameroon\",\"Bulgaria\",\"Egypt\",\"Yemen\",\"Angola\",\"Mali\",\"Congo (Brazzaville)\",\"Comoros\",\"Uganda\",\"Senegal\",\"Gabon\",\"Niger\",\"Cambodia\",\"Tanzania\",\"Madagascar\",\"Central African Republic\",\"Chad\",\"Guinea\",\"Ivory Coast\",\"Burkina Faso\",\"Afghanistan\",\"Rwanda\",\"Benin\",\"Syria\",\"Burundi\",\"Togo\"],\"locationmode\":\"country names\",\"locations\":[\"Switzerland\",\"Iceland\",\"Denmark\",\"Norway\",\"Canada\",\"Finland\",\"Netherlands\",\"Sweden\",\"New Zealand\",\"Australia\",\"Israel\",\"Costa Rica\",\"Austria\",\"Mexico\",\"United States\",\"Brazil\",\"Luxembourg\",\"Ireland\",\"Belgium\",\"United Arab Emirates\",\"United Kingdom\",\"Oman\",\"Venezuela\",\"Singapore\",\"Panama\",\"Germany\",\"Chile\",\"Qatar\",\"France\",\"Argentina\",\"Czech Republic\",\"Uruguay\",\"Colombia\",\"Thailand\",\"Saudi Arabia\",\"Spain\",\"Malta\",\"Taiwan\",\"Kuwait\",\"Suriname\",\"Trinidad and Tobago\",\"El Salvador\",\"Guatemala\",\"Uzbekistan\",\"Slovakia\",\"Japan\",\"South Korea\",\"Ecuador\",\"Bahrain\",\"Italy\",\"Bolivia\",\"Moldova\",\"Paraguay\",\"Kazakhstan\",\"Slovenia\",\"Lithuania\",\"Nicaragua\",\"Peru\",\"Belarus\",\"Poland\",\"Malaysia\",\"Croatia\",\"Libya\",\"Russia\",\"Jamaica\",\"North Cyprus\",\"Cyprus\",\"Algeria\",\"Kosovo\",\"Turkmenistan\",\"Mauritius\",\"Hong Kong\",\"Estonia\",\"Indonesia\",\"Vietnam\",\"Turkey\",\"Kyrgyzstan\",\"Nigeria\",\"Bhutan\",\"Azerbaijan\",\"Pakistan\",\"Jordan\",\"Montenegro\",\"China\",\"Zambia\",\"Romania\",\"Serbia\",\"Portugal\",\"Latvia\",\"Philippines\",\"Somaliland region\",\"Morocco\",\"Macedonia\",\"Mozambique\",\"Albania\",\"Bosnia and Herzegovina\",\"Lesotho\",\"Dominican Republic\",\"Laos\",\"Mongolia\",\"Swaziland\",\"Greece\",\"Lebanon\",\"Hungary\",\"Honduras\",\"Tajikistan\",\"Tunisia\",\"Palestinian Territories\",\"Bangladesh\",\"Iran\",\"Ukraine\",\"Iraq\",\"South Africa\",\"Ghana\",\"Zimbabwe\",\"Liberia\",\"India\",\"Sudan\",\"Haiti\",\"Congo (Kinshasa)\",\"Nepal\",\"Ethiopia\",\"Sierra Leone\",\"Mauritania\",\"Kenya\",\"Djibouti\",\"Armenia\",\"Botswana\",\"Myanmar\",\"Georgia\",\"Malawi\",\"Sri Lanka\",\"Cameroon\",\"Bulgaria\",\"Egypt\",\"Yemen\",\"Angola\",\"Mali\",\"Congo (Brazzaville)\",\"Comoros\",\"Uganda\",\"Senegal\",\"Gabon\",\"Niger\",\"Cambodia\",\"Tanzania\",\"Madagascar\",\"Central African Republic\",\"Chad\",\"Guinea\",\"Ivory Coast\",\"Burkina Faso\",\"Afghanistan\",\"Rwanda\",\"Benin\",\"Syria\",\"Burundi\",\"Togo\"],\"name\":\"\",\"z\":[7.587,7.561,7.527,7.522,7.427,7.406,7.378,7.364,7.286,7.284,7.278,7.226,7.2,7.187,7.119,6.983,6.946,6.94,6.937,6.901,6.867,6.853,6.81,6.798,6.786,6.75,6.67,6.611,6.575,6.574,6.505,6.485,6.477,6.455,6.411,6.329,6.302,6.298,6.295,6.269,6.168,6.13,6.123,6.003,5.995,5.987,5.984,5.975,5.96,5.948,5.89,5.889,5.878,5.855,5.848,5.833,5.828,5.824,5.813,5.791,5.77,5.759,5.754,5.716,5.709,5.695,5.689,5.605,5.589,5.548,5.477,5.474,5.429,5.399,5.36,5.332,5.286,5.268,5.253,5.212,5.194,5.192,5.192,5.14,5.129,5.124,5.123,5.102,5.098,5.073,5.057,5.013,5.007,4.971,4.959,4.949,4.898,4.885,4.876,4.874,4.867,4.857,4.839,4.8,4.788,4.786,4.739,4.715,4.694,4.686,4.681,4.677,4.642,4.633,4.61,4.571,4.565,4.55,4.518,4.517,4.514,4.512,4.507,4.436,4.419,4.369,4.35,4.332,4.307,4.297,4.292,4.271,4.252,4.218,4.194,4.077,4.033,3.995,3.989,3.956,3.931,3.904,3.896,3.845,3.819,3.781,3.681,3.678,3.667,3.656,3.655,3.587,3.575,3.465,3.34,3.006,2.905,2.839],\"type\":\"choropleth\"}],                        {\"template\":{\"data\":{\"histogram2dcontour\":[{\"type\":\"histogram2dcontour\",\"colorbar\":{\"outlinewidth\":0,\"ticks\":\"\"},\"colorscale\":[[0.0,\"#0d0887\"],[0.1111111111111111,\"#46039f\"],[0.2222222222222222,\"#7201a8\"],[0.3333333333333333,\"#9c179e\"],[0.4444444444444444,\"#bd3786\"],[0.5555555555555556,\"#d8576b\"],[0.6666666666666666,\"#ed7953\"],[0.7777777777777778,\"#fb9f3a\"],[0.8888888888888888,\"#fdca26\"],[1.0,\"#f0f921\"]]}],\"choropleth\":[{\"type\":\"choropleth\",\"colorbar\":{\"outlinewidth\":0,\"ticks\":\"\"}}],\"histogram2d\":[{\"type\":\"histogram2d\",\"colorbar\":{\"outlinewidth\":0,\"ticks\":\"\"},\"colorscale\":[[0.0,\"#0d0887\"],[0.1111111111111111,\"#46039f\"],[0.2222222222222222,\"#7201a8\"],[0.3333333333333333,\"#9c179e\"],[0.4444444444444444,\"#bd3786\"],[0.5555555555555556,\"#d8576b\"],[0.6666666666666666,\"#ed7953\"],[0.7777777777777778,\"#fb9f3a\"],[0.8888888888888888,\"#fdca26\"],[1.0,\"#f0f921\"]]}],\"heatmap\":[{\"type\":\"heatmap\",\"colorbar\":{\"outlinewidth\":0,\"ticks\":\"\"},\"colorscale\":[[0.0,\"#0d0887\"],[0.1111111111111111,\"#46039f\"],[0.2222222222222222,\"#7201a8\"],[0.3333333333333333,\"#9c179e\"],[0.4444444444444444,\"#bd3786\"],[0.5555555555555556,\"#d8576b\"],[0.6666666666666666,\"#ed7953\"],[0.7777777777777778,\"#fb9f3a\"],[0.8888888888888888,\"#fdca26\"],[1.0,\"#f0f921\"]]}],\"heatmapgl\":[{\"type\":\"heatmapgl\",\"colorbar\":{\"outlinewidth\":0,\"ticks\":\"\"},\"colorscale\":[[0.0,\"#0d0887\"],[0.1111111111111111,\"#46039f\"],[0.2222222222222222,\"#7201a8\"],[0.3333333333333333,\"#9c179e\"],[0.4444444444444444,\"#bd3786\"],[0.5555555555555556,\"#d8576b\"],[0.6666666666666666,\"#ed7953\"],[0.7777777777777778,\"#fb9f3a\"],[0.8888888888888888,\"#fdca26\"],[1.0,\"#f0f921\"]]}],\"contourcarpet\":[{\"type\":\"contourcarpet\",\"colorbar\":{\"outlinewidth\":0,\"ticks\":\"\"}}],\"contour\":[{\"type\":\"contour\",\"colorbar\":{\"outlinewidth\":0,\"ticks\":\"\"},\"colorscale\":[[0.0,\"#0d0887\"],[0.1111111111111111,\"#46039f\"],[0.2222222222222222,\"#7201a8\"],[0.3333333333333333,\"#9c179e\"],[0.4444444444444444,\"#bd3786\"],[0.5555555555555556,\"#d8576b\"],[0.6666666666666666,\"#ed7953\"],[0.7777777777777778,\"#fb9f3a\"],[0.8888888888888888,\"#fdca26\"],[1.0,\"#f0f921\"]]}],\"surface\":[{\"type\":\"surface\",\"colorbar\":{\"outlinewidth\":0,\"ticks\":\"\"},\"colorscale\":[[0.0,\"#0d0887\"],[0.1111111111111111,\"#46039f\"],[0.2222222222222222,\"#7201a8\"],[0.3333333333333333,\"#9c179e\"],[0.4444444444444444,\"#bd3786\"],[0.5555555555555556,\"#d8576b\"],[0.6666666666666666,\"#ed7953\"],[0.7777777777777778,\"#fb9f3a\"],[0.8888888888888888,\"#fdca26\"],[1.0,\"#f0f921\"]]}],\"mesh3d\":[{\"type\":\"mesh3d\",\"colorbar\":{\"outlinewidth\":0,\"ticks\":\"\"}}],\"scatter\":[{\"fillpattern\":{\"fillmode\":\"overlay\",\"size\":10,\"solidity\":0.2},\"type\":\"scatter\"}],\"parcoords\":[{\"type\":\"parcoords\",\"line\":{\"colorbar\":{\"outlinewidth\":0,\"ticks\":\"\"}}}],\"scatterpolargl\":[{\"type\":\"scatterpolargl\",\"marker\":{\"colorbar\":{\"outlinewidth\":0,\"ticks\":\"\"}}}],\"bar\":[{\"error_x\":{\"color\":\"#2a3f5f\"},\"error_y\":{\"color\":\"#2a3f5f\"},\"marker\":{\"line\":{\"color\":\"#E5ECF6\",\"width\":0.5},\"pattern\":{\"fillmode\":\"overlay\",\"size\":10,\"solidity\":0.2}},\"type\":\"bar\"}],\"scattergeo\":[{\"type\":\"scattergeo\",\"marker\":{\"colorbar\":{\"outlinewidth\":0,\"ticks\":\"\"}}}],\"scatterpolar\":[{\"type\":\"scatterpolar\",\"marker\":{\"colorbar\":{\"outlinewidth\":0,\"ticks\":\"\"}}}],\"histogram\":[{\"marker\":{\"pattern\":{\"fillmode\":\"overlay\",\"size\":10,\"solidity\":0.2}},\"type\":\"histogram\"}],\"scattergl\":[{\"type\":\"scattergl\",\"marker\":{\"colorbar\":{\"outlinewidth\":0,\"ticks\":\"\"}}}],\"scatter3d\":[{\"type\":\"scatter3d\",\"line\":{\"colorbar\":{\"outlinewidth\":0,\"ticks\":\"\"}},\"marker\":{\"colorbar\":{\"outlinewidth\":0,\"ticks\":\"\"}}}],\"scattermapbox\":[{\"type\":\"scattermapbox\",\"marker\":{\"colorbar\":{\"outlinewidth\":0,\"ticks\":\"\"}}}],\"scatterternary\":[{\"type\":\"scatterternary\",\"marker\":{\"colorbar\":{\"outlinewidth\":0,\"ticks\":\"\"}}}],\"scattercarpet\":[{\"type\":\"scattercarpet\",\"marker\":{\"colorbar\":{\"outlinewidth\":0,\"ticks\":\"\"}}}],\"carpet\":[{\"aaxis\":{\"endlinecolor\":\"#2a3f5f\",\"gridcolor\":\"white\",\"linecolor\":\"white\",\"minorgridcolor\":\"white\",\"startlinecolor\":\"#2a3f5f\"},\"baxis\":{\"endlinecolor\":\"#2a3f5f\",\"gridcolor\":\"white\",\"linecolor\":\"white\",\"minorgridcolor\":\"white\",\"startlinecolor\":\"#2a3f5f\"},\"type\":\"carpet\"}],\"table\":[{\"cells\":{\"fill\":{\"color\":\"#EBF0F8\"},\"line\":{\"color\":\"white\"}},\"header\":{\"fill\":{\"color\":\"#C8D4E3\"},\"line\":{\"color\":\"white\"}},\"type\":\"table\"}],\"barpolar\":[{\"marker\":{\"line\":{\"color\":\"#E5ECF6\",\"width\":0.5},\"pattern\":{\"fillmode\":\"overlay\",\"size\":10,\"solidity\":0.2}},\"type\":\"barpolar\"}],\"pie\":[{\"automargin\":true,\"type\":\"pie\"}]},\"layout\":{\"autotypenumbers\":\"strict\",\"colorway\":[\"#636efa\",\"#EF553B\",\"#00cc96\",\"#ab63fa\",\"#FFA15A\",\"#19d3f3\",\"#FF6692\",\"#B6E880\",\"#FF97FF\",\"#FECB52\"],\"font\":{\"color\":\"#2a3f5f\"},\"hovermode\":\"closest\",\"hoverlabel\":{\"align\":\"left\"},\"paper_bgcolor\":\"white\",\"plot_bgcolor\":\"#E5ECF6\",\"polar\":{\"bgcolor\":\"#E5ECF6\",\"angularaxis\":{\"gridcolor\":\"white\",\"linecolor\":\"white\",\"ticks\":\"\"},\"radialaxis\":{\"gridcolor\":\"white\",\"linecolor\":\"white\",\"ticks\":\"\"}},\"ternary\":{\"bgcolor\":\"#E5ECF6\",\"aaxis\":{\"gridcolor\":\"white\",\"linecolor\":\"white\",\"ticks\":\"\"},\"baxis\":{\"gridcolor\":\"white\",\"linecolor\":\"white\",\"ticks\":\"\"},\"caxis\":{\"gridcolor\":\"white\",\"linecolor\":\"white\",\"ticks\":\"\"}},\"coloraxis\":{\"colorbar\":{\"outlinewidth\":0,\"ticks\":\"\"}},\"colorscale\":{\"sequential\":[[0.0,\"#0d0887\"],[0.1111111111111111,\"#46039f\"],[0.2222222222222222,\"#7201a8\"],[0.3333333333333333,\"#9c179e\"],[0.4444444444444444,\"#bd3786\"],[0.5555555555555556,\"#d8576b\"],[0.6666666666666666,\"#ed7953\"],[0.7777777777777778,\"#fb9f3a\"],[0.8888888888888888,\"#fdca26\"],[1.0,\"#f0f921\"]],\"sequentialminus\":[[0.0,\"#0d0887\"],[0.1111111111111111,\"#46039f\"],[0.2222222222222222,\"#7201a8\"],[0.3333333333333333,\"#9c179e\"],[0.4444444444444444,\"#bd3786\"],[0.5555555555555556,\"#d8576b\"],[0.6666666666666666,\"#ed7953\"],[0.7777777777777778,\"#fb9f3a\"],[0.8888888888888888,\"#fdca26\"],[1.0,\"#f0f921\"]],\"diverging\":[[0,\"#8e0152\"],[0.1,\"#c51b7d\"],[0.2,\"#de77ae\"],[0.3,\"#f1b6da\"],[0.4,\"#fde0ef\"],[0.5,\"#f7f7f7\"],[0.6,\"#e6f5d0\"],[0.7,\"#b8e186\"],[0.8,\"#7fbc41\"],[0.9,\"#4d9221\"],[1,\"#276419\"]]},\"xaxis\":{\"gridcolor\":\"white\",\"linecolor\":\"white\",\"ticks\":\"\",\"title\":{\"standoff\":15},\"zerolinecolor\":\"white\",\"automargin\":true,\"zerolinewidth\":2},\"yaxis\":{\"gridcolor\":\"white\",\"linecolor\":\"white\",\"ticks\":\"\",\"title\":{\"standoff\":15},\"zerolinecolor\":\"white\",\"automargin\":true,\"zerolinewidth\":2},\"scene\":{\"xaxis\":{\"backgroundcolor\":\"#E5ECF6\",\"gridcolor\":\"white\",\"linecolor\":\"white\",\"showbackground\":true,\"ticks\":\"\",\"zerolinecolor\":\"white\",\"gridwidth\":2},\"yaxis\":{\"backgroundcolor\":\"#E5ECF6\",\"gridcolor\":\"white\",\"linecolor\":\"white\",\"showbackground\":true,\"ticks\":\"\",\"zerolinecolor\":\"white\",\"gridwidth\":2},\"zaxis\":{\"backgroundcolor\":\"#E5ECF6\",\"gridcolor\":\"white\",\"linecolor\":\"white\",\"showbackground\":true,\"ticks\":\"\",\"zerolinecolor\":\"white\",\"gridwidth\":2}},\"shapedefaults\":{\"line\":{\"color\":\"#2a3f5f\"}},\"annotationdefaults\":{\"arrowcolor\":\"#2a3f5f\",\"arrowhead\":0,\"arrowwidth\":1},\"geo\":{\"bgcolor\":\"white\",\"landcolor\":\"#E5ECF6\",\"subunitcolor\":\"white\",\"showland\":true,\"showlakes\":true,\"lakecolor\":\"white\"},\"title\":{\"x\":0.05},\"mapbox\":{\"style\":\"light\"}}},\"geo\":{\"domain\":{\"x\":[0.0,1.0],\"y\":[0.0,1.0]},\"center\":{}},\"coloraxis\":{\"colorbar\":{\"title\":{\"text\":\"Happiness Score\"}},\"colorscale\":[[0.0,\"#0d0887\"],[0.1111111111111111,\"#46039f\"],[0.2222222222222222,\"#7201a8\"],[0.3333333333333333,\"#9c179e\"],[0.4444444444444444,\"#bd3786\"],[0.5555555555555556,\"#d8576b\"],[0.6666666666666666,\"#ed7953\"],[0.7777777777777778,\"#fb9f3a\"],[0.8888888888888888,\"#fdca26\"],[1.0,\"#f0f921\"]]},\"legend\":{\"tracegroupgap\":0},\"margin\":{\"t\":0,\"r\":0,\"l\":0,\"b\":0},\"width\":900,\"height\":400},                        {\"responsive\": true}                    ).then(function(){\n",
       "                            \n",
       "var gd = document.getElementById('0bdac248-2986-4eba-a854-7205f54873ce');\n",
       "var x = new MutationObserver(function (mutations, observer) {{\n",
       "        var display = window.getComputedStyle(gd).display;\n",
       "        if (!display || display === 'none') {{\n",
       "            console.log([gd, 'removed!']);\n",
       "            Plotly.purge(gd);\n",
       "            observer.disconnect();\n",
       "        }}\n",
       "}});\n",
       "\n",
       "// Listen for the removal of the full notebook cells\n",
       "var notebookContainer = gd.closest('#notebook-container');\n",
       "if (notebookContainer) {{\n",
       "    x.observe(notebookContainer, {childList: true});\n",
       "}}\n",
       "\n",
       "// Listen for the clearing of the current output cell\n",
       "var outputEl = gd.closest('.output');\n",
       "if (outputEl) {{\n",
       "    x.observe(outputEl, {childList: true});\n",
       "}}\n",
       "\n",
       "                        })                };                });            </script>        </div>"
      ]
     },
     "metadata": {},
     "output_type": "display_data"
    }
   ],
   "source": [
    "import plotly.offline as py\n",
    "py.init_notebook_mode(connected=True)\n",
    "import plotly.express as px\n",
    "\n",
    "fig = px.choropleth(happy_df, locations='Country',\n",
    "                    locationmode = \"country names\",\n",
    "                    color=\"Happiness Score\",\n",
    "                    hover_name = 'Country',\n",
    "                    hover_data={'Country':False,\n",
    "                                'Happiness Rank': True\n",
    "                               }\n",
    "                   )\n",
    "fig.update_layout(width=900, height=400, margin={\"r\":0,\"t\":0,\"l\":0,\"b\":0})\n",
    "fig.show()"
   ]
  },
  {
   "cell_type": "code",
   "execution_count": null,
   "id": "f67fc458",
   "metadata": {},
   "outputs": [],
   "source": []
  }
 ],
 "metadata": {
  "kernelspec": {
   "display_name": "Python 3",
   "language": "python",
   "name": "python3"
  },
  "language_info": {
   "codemirror_mode": {
    "name": "ipython",
    "version": 3
   },
   "file_extension": ".py",
   "mimetype": "text/x-python",
   "name": "python",
   "nbconvert_exporter": "python",
   "pygments_lexer": "ipython3",
   "version": "3.8.8"
  }
 },
 "nbformat": 4,
 "nbformat_minor": 5
}
